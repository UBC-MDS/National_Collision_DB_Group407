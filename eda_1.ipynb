{
 "cells": [
  {
   "cell_type": "code",
   "execution_count": 1,
   "metadata": {},
   "outputs": [],
   "source": [
    "import pandas as pd\n",
    "import altair as alt\n",
    "import numpy as np\n",
    "from sklearn.model_selection import train_test_split"
   ]
  },
  {
   "cell_type": "code",
   "execution_count": 31,
   "metadata": {},
   "outputs": [
    {
     "name": "stderr",
     "output_type": "stream",
     "text": [
      "C:\\Users\\vigne\\AppData\\Local\\Continuum\\anaconda3\\lib\\site-packages\\IPython\\core\\interactiveshell.py:3058: DtypeWarning: Columns (2,3,6,13) have mixed types. Specify dtype option on import or set low_memory=False.\n",
      "  interactivity=interactivity, compiler=compiler, result=result)\n"
     ]
    },
    {
     "name": "stdout",
     "output_type": "stream",
     "text": [
      "(289841, 24)\n",
      "<class 'pandas.core.frame.DataFrame'>\n",
      "RangeIndex: 289841 entries, 0 to 289840\n",
      "Data columns (total 24 columns):\n",
      "Unnamed: 0    289841 non-null int64\n",
      "C_YEAR        289841 non-null int64\n",
      "C_MNTH        289841 non-null object\n",
      "C_WDAY        289841 non-null object\n",
      "C_HOUR        289841 non-null object\n",
      "C_SEV         289841 non-null int64\n",
      "C_VEHS        289841 non-null object\n",
      "C_CONF        289841 non-null object\n",
      "C_RCFG        289841 non-null object\n",
      "C_WTHR        289841 non-null object\n",
      "C_RSUR        289841 non-null object\n",
      "C_RALN        289841 non-null object\n",
      "C_TRAF        289841 non-null object\n",
      "V_ID          289841 non-null object\n",
      "V_TYPE        289841 non-null object\n",
      "V_YEAR        289841 non-null object\n",
      "P_ID          289841 non-null object\n",
      "P_SEX         289841 non-null object\n",
      "P_AGE         289841 non-null object\n",
      "P_PSN         289841 non-null object\n",
      "P_ISEV        289841 non-null object\n",
      "P_SAFE        289841 non-null object\n",
      "P_USER        289841 non-null object\n",
      "C_CASE        289841 non-null int64\n",
      "dtypes: int64(4), object(20)\n",
      "memory usage: 53.1+ MB\n"
     ]
    }
   ],
   "source": [
    "df = pd.read_csv(\"src/data/data.csv\", skip_blank_lines=True)\n",
    "print(df.shape)\n",
    "df.info()"
   ]
  },
  {
   "cell_type": "code",
   "execution_count": 32,
   "metadata": {},
   "outputs": [],
   "source": [
    "#Dropping all the column wherein the medical services information isn't available.\n",
    "df = df[df.P_ISEV != 'U']\n",
    "\n",
    "#Splitting test and train data\n",
    "X_train, X_test, y_train, y_test = train_test_split(df.drop(columns = 'P_ISEV') , \n",
    "                                                    df['P_ISEV'], \n",
    "                                                    test_size=0.2, \n",
    "                                                    random_state=100)"
   ]
  },
  {
   "cell_type": "code",
   "execution_count": 27,
   "metadata": {},
   "outputs": [
    {
     "data": {
      "application/vnd.vegalite.v3+json": {
       "$schema": "https://vega.github.io/schema/vega-lite/v3.4.0.json",
       "config": {
        "mark": {
         "tooltip": null
        },
        "view": {
         "height": 300,
         "width": 400
        }
       },
       "data": {
        "name": "data-c71808d548ea1e90644ee993a50d0934"
       },
       "datasets": {
        "data-c71808d548ea1e90644ee993a50d0934": [
         {
          "C_CASE": 12926,
          "P_ISEV_tr": "Dummy - parked cars"
         },
         {
          "C_CASE": 1856,
          "P_ISEV_tr": "Fatality"
         },
         {
          "C_CASE": 152772,
          "P_ISEV_tr": "Injury"
         },
         {
          "C_CASE": 118199,
          "P_ISEV_tr": "No injury"
         },
         {
          "C_CASE": 4088,
          "P_ISEV_tr": "Runaway cars"
         }
        ]
       },
       "encoding": {
        "x": {
         "field": "C_CASE",
         "title": "Number of accidents",
         "type": "quantitative"
        },
        "y": {
         "field": "P_ISEV_tr",
         "sort": {
          "order": "ascending"
         },
         "title": "Consequences in current accidents",
         "type": "ordinal"
        }
       },
       "mark": "bar",
       "title": "Road accidents in 2017 which and their medical service needs"
      },
      "image/png": "[encoded data removed]",
      "text/plain": [
       "<VegaLite 3 object>\n",
       "\n",
       "If you see this message, it means the renderer has not been properly enabled\n",
       "for the frontend that you are using. For more information, see\n",
       "https://altair-viz.github.io/user_guide/troubleshooting.html\n"
      ]
     },
     "execution_count": 27,
     "metadata": {},
     "output_type": "execute_result"
    }
   ],
   "source": [
    "ncdb = pd.concat(X_train, y_train, axis = 1)\n",
    "\n",
    "medical_encoding = {'1' : 'No injury',\n",
    "                    '2' : 'Injury',\n",
    "                    '3' : 'Fatality',\n",
    "                    'N' : 'Dummy - parked cars',\n",
    "                    'U' : 'Runaway cars',\n",
    "                    'X' : 'Jurisdiction does not provide data'}\n",
    "                    \n",
    "ncdb['P_ISEV_tr'] = ncdb['P_ISEV'].map(medical_encoding)\n",
    "\n",
    "med_service = list(ncdb['P_ISEV_tr'].unique())\n",
    "med_service\n",
    "\n",
    "q_0 = ncdb.groupby('P_ISEV_tr').agg({'C_CASE' : 'count'}).reset_index()\n",
    "\n",
    "alt.Chart(q_0).mark_bar().encode(\n",
    "    alt.Y('P_ISEV_tr:O', \n",
    "          title = \"Consequences in current accidents\", \n",
    "          sort = alt.EncodingSortField(order = \"ascending\")),\n",
    "    alt.X('C_CASE:Q', \n",
    "          title = \"Number of accidents\")     \n",
    "         ).properties(title = \"Road accidents in 2017 which and their medical service needs\")"
   ]
  },
  {
   "cell_type": "code",
   "execution_count": 21,
   "metadata": {},
   "outputs": [
    {
     "data": {
      "text/plain": [
       "[1, 0]"
      ]
     },
     "execution_count": 21,
     "metadata": {},
     "output_type": "execute_result"
    }
   ],
   "source": [
    "\n",
    "medical_encoding = {'1' : 0,\n",
    "            '2' : 1,\n",
    "            '3' : 1,\n",
    "            'N' : 0,\n",
    "            'U' : 0,\n",
    "            'X' : 'Jurisdiction does not provide data'}\n",
    "                    \n",
    "ncdb['P_ISEV_tr'] = ncdb['P_ISEV'].map(medical_encoding)\n",
    "\n",
    "med_service = list(ncdb['P_ISEV_tr'].unique())\n",
    "med_service\n",
    "\n",
    "q_0 = ncdb.groupby('P_ISEV_tr').agg({'C_CASE' : 'count'}).reset_index()\n",
    "\n",
    "alt.Chart(q_0).mark_bar().encode(\n",
    "    alt.Y('P_ISEV_tr:O', \n",
    "          title = \"Medical services\", \n",
    "          sort = alt.EncodingSortField(order = \"ascending\")),\n",
    "    alt.X('C_CASE:Q', \n",
    "          title = \"Number of accidents\")     \n",
    "         ).properties(title = \"Road accidents in 2017 which and their medical service needs\")\n"
   ]
  },
  {
   "cell_type": "code",
   "execution_count": null,
   "metadata": {},
   "outputs": [],
   "source": [
    "X_train, X_test, y_train, y_test = train_test_split(X, y, \n",
    "                                                    test_size=0.2, \n",
    "                                                    random_state=42)"
   ]
  },
  {
   "cell_type": "code",
   "execution_count": null,
   "metadata": {},
   "outputs": [],
   "source": [
    "### Question_1 (descriptive) ###\n",
    "# Which day of the week do most accidents occur?\n",
    "\n",
    "#Coercing all weekday values into string\n",
    "ncdb['C_WDAY'] = ncdb['C_WDAY'].astype('str')\n",
    "\n",
    "#Removing the 22 'U' or unknown days of the cases.\n",
    "ncdb = ncdb[ncdb.C_WDAY != 'U']\n",
    "\n",
    "#What are the days information?\n",
    "wday = list(ncdb['C_WDAY'].unique())\n",
    "print(\"- The following are the days info : \", len(wday), wday, \"\\n\")\n",
    "\n",
    "day_week = {'1' : 'Monday',\n",
    "            '2' : 'Tuesday',\n",
    "            '3' : 'Wednesday',\n",
    "            '4' : 'Thursday',\n",
    "            '5' : 'Friday',\n",
    "            '6' : 'Saturday',\n",
    "            '7' : 'Sunday'}\n",
    "ncdb['C_WDAY_STR'] = ncdb['C_WDAY'].map(day_week)\n",
    "\n",
    "ncdb['C_WDAY_STR'] = pd.Categorical(ncdb['C_WDAY_STR'], [\"Monday\", \n",
    "                                                        \"Tuesday\", \n",
    "                                                        \"Wednesday\", \n",
    "                                                        \"Thursday\",\n",
    "                                                        \"Friday\",\n",
    "                                                        \"Saturday\",\n",
    "                                                        \"Sunday\"])\n",
    "\n",
    "#Grouping by weekday and aggregating by number of accidents\n",
    "q1 = ncdb.groupby('C_WDAY_STR').agg({'C_CASE' : 'count'}).reset_index()\n",
    "\n",
    "alt.Chart(q1).mark_bar().encode(\n",
    "    alt.Y('C_WDAY_STR:O', \n",
    "          title = \"Days of the week\", \n",
    "          sort = alt.EncodingSortField(order = \"ascending\")),\n",
    "    alt.X('C_CASE:Q', \n",
    "          title = \"Number of accidents\")     \n",
    "         ).properties(title = \"Road accidents in 2017 by day of the week\")"
   ]
  },
  {
   "cell_type": "code",
   "execution_count": null,
   "metadata": {},
   "outputs": [],
   "source": [
    "### Question_2\n",
    "#Which time of the day do most accidents occur?\n",
    "\n",
    "list(ncdb['C_HOUR'].unique())\n",
    "\n",
    "#Padding the hour so that they are in the 01, 02 ... format\n",
    "ncdb['C_HOUR'] = ncdb.C_HOUR.str.pad(2,side = 'left', fillchar = '0')\n",
    "\n",
    "#Grouping by the hour and aggregating the count of collissions.\n",
    "q2 = ncdb.groupby('C_HOUR').agg({'C_CASE' : 'count'}).reset_index()\n",
    "q2 = q2.sort_values(by = 'C_HOUR')"
   ]
  },
  {
   "cell_type": "code",
   "execution_count": null,
   "metadata": {},
   "outputs": [],
   "source": [
    "### Question_3\n",
    "#Which weather conditions contribute to most accidents?\n",
    "\n",
    "\n",
    "list(ncdb['C_RSUR'].unique())\n",
    "weather_conversion = {'1' : 'Dry/normal',\n",
    "            '2' : 'Wet',\n",
    "            '3' : 'Fresh snow',\n",
    "            '4' : 'Slush ,wet snow',\n",
    "            '5' : 'Icy',\n",
    "            '6' : 'Sand/gravel/dirt',\n",
    "            '7' : 'Muddy',\n",
    "            '8' : 'Oil',\n",
    "            '9' : 'Flood',\n",
    "            'Q' : 'Unknown',\n",
    "            'U' : 'Unknown',\n",
    "            'X' : 'Unknown'\n",
    "                     }\n",
    "ncdb['C_RSUR_STR'] = ncdb['C_RSUR'].map(weather_conversion)\n",
    "list(ncdb['C_RSUR_STR'].unique())\n",
    "\n",
    "q3 = ncdb.groupby('C_RSUR_STR').agg({'C_CASE' : 'count'}).reset_index()"
   ]
  }
 ],
 "metadata": {
  "kernelspec": {
   "display_name": "Python 3",
   "language": "python",
   "name": "python3"
  },
  "language_info": {
   "codemirror_mode": {
    "name": "ipython",
    "version": 3
   },
   "file_extension": ".py",
   "mimetype": "text/x-python",
   "name": "python",
   "nbconvert_exporter": "python",
   "pygments_lexer": "ipython3",
   "version": "3.7.3"
  }
 },
 "nbformat": 4,
 "nbformat_minor": 4
}
