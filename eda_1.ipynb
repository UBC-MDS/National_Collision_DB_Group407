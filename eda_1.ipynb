{
 "cells": [
  {
   "cell_type": "code",
   "execution_count": 4,
   "metadata": {},
   "outputs": [
    {
     "data": {
      "text/plain": [
       "DataTransformerRegistry.enable('default')"
      ]
     },
     "execution_count": 4,
     "metadata": {},
     "output_type": "execute_result"
    }
   ],
   "source": [
    "import pandas as pd\n",
    "import altair as alt\n",
    "import numpy as np\n",
    "from sklearn.model_selection import train_test_split\n",
    "\n",
    "alt.data_transformers.disable_max_rows()"
   ]
  },
  {
   "cell_type": "code",
   "execution_count": 5,
   "metadata": {},
   "outputs": [
    {
     "name": "stdout",
     "output_type": "stream",
     "text": [
      "(289841, 24)\n"
     ]
    }
   ],
   "source": [
    "df = pd.read_csv(\"src/data/data.csv\", skip_blank_lines=True)\n",
    "print(df.shape)"
   ]
  },
  {
   "cell_type": "code",
   "execution_count": 6,
   "metadata": {},
   "outputs": [],
   "source": [
    "#Dropping all the column wherein the medical services information isn't available.\n",
    "df = df[df.P_ISEV != 'U']\n",
    "\n",
    "#Splitting test and train data\n",
    "X_train, X_test, y_train, y_test = train_test_split(df.drop(columns = 'P_ISEV') , \n",
    "                                                    df['P_ISEV'], \n",
    "                                                    test_size=0.2, \n",
    "                                                    random_state=100)"
   ]
  },
  {
   "cell_type": "code",
   "execution_count": 8,
   "metadata": {},
   "outputs": [
    {
     "data": {
      "application/vnd.vegalite.v3+json": {
       "$schema": "https://vega.github.io/schema/vega-lite/v3.4.0.json",
       "config": {
        "mark": {
         "tooltip": null
        },
        "view": {
         "height": 300,
         "width": 400
        }
       },
       "data": {
        "name": "data-0a42bf924629a194a4d407b9cda76f3f"
       },
       "datasets": {
        "data-0a42bf924629a194a4d407b9cda76f3f": [
         {
          "C_CASE": 10291,
          "P_ISEV_tr": "Dummy - parked cars"
         },
         {
          "C_CASE": 1492,
          "P_ISEV_tr": "Fatality"
         },
         {
          "C_CASE": 122220,
          "P_ISEV_tr": "Injury"
         },
         {
          "C_CASE": 94599,
          "P_ISEV_tr": "No injury"
         }
        ]
       },
       "encoding": {
        "x": {
         "field": "C_CASE",
         "title": "Number of accidents",
         "type": "quantitative"
        },
        "y": {
         "field": "P_ISEV_tr",
         "title": "Consequences in current accidents",
         "type": "ordinal"
        }
       },
       "mark": "bar",
       "title": "Road accidents in 2017 which and their medical service needs"
      },
      "image/png": "[encoded data removed]",
      "text/plain": [
       "<VegaLite 3 object>\n",
       "\n",
       "If you see this message, it means the renderer has not been properly enabled\n",
       "for the frontend that you are using. For more information, see\n",
       "https://altair-viz.github.io/user_guide/troubleshooting.html\n"
      ]
     },
     "execution_count": 8,
     "metadata": {},
     "output_type": "execute_result"
    }
   ],
   "source": [
    "ncdb = pd.concat([X_train, y_train], axis = 1)\n",
    "\n",
    "medical_encoding = {'1' : 'No injury',\n",
    "                    '2' : 'Injury',\n",
    "                    '3' : 'Fatality',\n",
    "                    'N' : 'Dummy - parked cars',\n",
    "                    'U' : 'Runaway cars',\n",
    "                    'X' : 'Jurisdiction does not provide data'}\n",
    "                    \n",
    "ncdb['P_ISEV_tr'] = ncdb['P_ISEV'].map(medical_encoding)\n",
    "\n",
    "med_service = list(ncdb['P_ISEV_tr'].unique())\n",
    "med_service\n",
    "\n",
    "q_0 = ncdb.groupby('P_ISEV_tr').agg({'C_CASE' : 'count'}).reset_index()\n",
    "\n",
    "alt.Chart(q_0).mark_bar().encode(\n",
    "    alt.Y('P_ISEV_tr:O', \n",
    "          title = \"Consequences in current accidents\"),\n",
    "    alt.X('C_CASE:Q', \n",
    "          title = \"Number of accidents\")     \n",
    "         ).properties(title = \"Road accidents in 2017 which and their medical service needs\")"
   ]
  },
  {
   "cell_type": "markdown",
   "metadata": {},
   "source": [
    "**Predictive question**\n",
    "\n",
    "Given the features( weather, time of the day, road surface, etc.) determine if emergency services would be needed for an accident."
   ]
  },
  {
   "cell_type": "code",
   "execution_count": null,
   "metadata": {},
   "outputs": [],
   "source": []
  }
 ],
 "metadata": {
  "kernelspec": {
   "display_name": "Python 3",
   "language": "python",
   "name": "python3"
  },
  "language_info": {
   "codemirror_mode": {
    "name": "ipython",
    "version": 3
   },
   "file_extension": ".py",
   "mimetype": "text/x-python",
   "name": "python",
   "nbconvert_exporter": "python",
   "pygments_lexer": "ipython3",
   "version": "3.7.3"
  }
 },
 "nbformat": 4,
 "nbformat_minor": 4
}
