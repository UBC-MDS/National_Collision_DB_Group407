{
 "cells": [
  {
   "cell_type": "code",
   "execution_count": 1,
   "metadata": {},
   "outputs": [],
   "source": [
    "import pandas as pd\n",
    "import matplotlib.pyplot as plt\n",
    "import numpy as np\n",
    "from sklearn.model_selection import train_test_split\n",
    "from sklearn.preprocessing import OneHotEncoder"
   ]
  },
  {
   "cell_type": "code",
   "execution_count": 2,
   "metadata": {},
   "outputs": [
    {
     "name": "stderr",
     "output_type": "stream",
     "text": [
      "/usr/local/Caskroom/miniconda/base/lib/python3.7/site-packages/IPython/core/interactiveshell.py:3051: DtypeWarning: Columns (2,3,6,13) have mixed types. Specify dtype option on import or set low_memory=False.\n",
      "  interactivity=interactivity, compiler=compiler, result=result)\n"
     ]
    }
   ],
   "source": [
    "#clean and encode the training data\n",
    "\n",
    "df_train = pd.read_csv(\"../data/train_data.csv\")\n",
    "df_test = pd.read_csv(\"../data/test_data.csv\")\n",
    "\n",
    "# clean the train data, dropping rows with unknown/string values and convert data frame to numeric type\n",
    "combined_train = pd.concat([X_train, y_train], axis=1)\n",
    "cleaned = combined_train.apply(pd.to_numeric, errors='coerce').dropna(axis=0).astype(int)\n",
    "\n",
    "# clean the test data, dropping rows with unknown/string values and convert data frame to numeric type\n",
    "combined_test = pd.concat([X_test, y_test], axis=1)\n",
    "cleaned_test = combined_test.apply(pd.to_numeric, errors='coerce').dropna(axis=0).astype(int)\n",
    "\n",
    "# get dummy variables for the cleaned data\n",
    "final_cleaned = pd.get_dummies(cleaned.astype(str))\n",
    "final_cleaned_test = pd.get_dummies(cleaned_test.astype(str))\n",
    "\n",
    "# save final data frame as csv file\n",
    "final_cleaned.to_csv(\"../data/cleaned_train_data.csv\")\n",
    "final_cleaned_test.to_csv(\"../data/cleaned_test_data.csv\")"
   ]
  },
  {
   "cell_type": "code",
   "execution_count": 21,
   "metadata": {},
   "outputs": [],
   "source": [
    "# save the cleaned trainning data to csv\n",
    "train_df.to_csv(\"../data/cleaned_train.csv\")"
   ]
  },
  {
   "cell_type": "code",
   "execution_count": 22,
   "metadata": {},
   "outputs": [],
   "source": [
    "#clean and encode the testing data\n",
    "\n",
    "df = pd.read_csv(\"../data/test_data.csv\")\n",
    "\n",
    "combined_test = df.drop([\"C_YEAR\", \"C_VEHS\", \"C_CONF\", \"V_ID\",\n",
    "             \"P_ID\", \"P_PSN\", \"P_ISEV\", \"P_USER\", \n",
    "             \"C_CASE\", \"C_SEV\", \"P_SEX\", \"P_SAFE\", \"P_AGE\", \"V_YEAR\"], axis=1)\n",
    "\n",
    "drop_strings = ((combined_test.C_MNTH != \"UU\")& \n",
    "         (combined_test.C_WDAY != \"U\")  & \n",
    "         (combined_test.C_HOUR != \"UU\") & \n",
    "         (combined_test.C_RCFG != \"UU\") & \n",
    "         (combined_test.C_RCFG != \"QQ\") & \n",
    "         (combined_test.C_WTHR != \"U\") & \n",
    "         (combined_test.C_WTHR != \"Q\") &\n",
    "         (combined_test.C_RSUR != \"Q\") &\n",
    "         (combined_test.C_RSUR != \"U\") &\n",
    "         (combined_test.C_RALN != \"Q\") &\n",
    "         (combined_test.C_RALN != \"U\") &\n",
    "         (combined_test.C_TRAF != \"QQ\") &\n",
    "         (combined_test.C_TRAF != \"UU\") &\n",
    "         (combined_test.V_TYPE != \"NN\") & \n",
    "         (combined_test.V_TYPE != \"UU\") & \n",
    "         (combined_test.V_TYPE != \"QQ\"))\n",
    "\n",
    "clean = combined_test[drop_strings]\n",
    "clean.apply(pd.to_numeric);\n",
    "\n",
    "final_clean = pd.get_dummies(clean)\n",
    "test_df = final_clean[set(final_clean.columns)]"
   ]
  },
  {
   "cell_type": "code",
   "execution_count": 23,
   "metadata": {},
   "outputs": [],
   "source": [
    "test_df.to_csv(\"../data/cleaned_test.csv\")"
   ]
  },
  {
   "cell_type": "code",
   "execution_count": null,
   "metadata": {},
   "outputs": [],
   "source": []
  }
 ],
 "metadata": {
  "kernelspec": {
   "display_name": "Python 3",
   "language": "python",
   "name": "python3"
  },
  "language_info": {
   "codemirror_mode": {
    "name": "ipython",
    "version": 3
   },
   "file_extension": ".py",
   "mimetype": "text/x-python",
   "name": "python",
   "nbconvert_exporter": "python",
   "pygments_lexer": "ipython3",
   "version": "3.7.3"
  }
 },
 "nbformat": 4,
 "nbformat_minor": 4
}
