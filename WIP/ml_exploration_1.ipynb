{
 "cells": [
  {
   "cell_type": "code",
<<<<<<< HEAD
   "execution_count": 10,
=======
   "execution_count": 1,
>>>>>>> 7887975753b9f886bd9b2607ec68689955382ae4
   "metadata": {},
   "outputs": [],
   "source": [
    "import pandas as pd\n",
    "import altair as alt\n",
    "import numpy as np\n",
    "import matplotlib.pyplot as plt\n",
    "import seaborn as sns\n",
    "from sklearn.model_selection import train_test_split \n",
    "from sklearn.datasets import load_digits\n",
    "from sklearn.linear_model import LogisticRegression, LinearRegression\n",
    "from sklearn.svm import SVC, SVR, LinearSVC\n",
    "from sklearn.ensemble import RandomForestClassifier, RandomForestRegressor\n",
    "from sklearn.metrics import confusion_matrix\n",
    "from sklearn.feature_selection import RFE\n",
    "import time\n",
    "from sklearn.metrics import classification_report\n",
    "\n",
    "#from sklearn.metrics import plot_confusion_matrix\n",
    "\n",
    "from sklearn.metrics import classification_report"
   ]
  },
  {
   "cell_type": "code",
<<<<<<< HEAD
   "execution_count": 18,
=======
   "execution_count": 2,
>>>>>>> 7887975753b9f886bd9b2607ec68689955382ae4
   "metadata": {},
   "outputs": [
    {
     "data": {
      "text/html": [
       "<div>\n",
       "<style scoped>\n",
       "    .dataframe tbody tr th:only-of-type {\n",
       "        vertical-align: middle;\n",
       "    }\n",
       "\n",
       "    .dataframe tbody tr th {\n",
       "        vertical-align: top;\n",
       "    }\n",
       "\n",
       "    .dataframe thead th {\n",
       "        text-align: right;\n",
       "    }\n",
       "</style>\n",
       "<table border=\"1\" class=\"dataframe\">\n",
       "  <thead>\n",
       "    <tr style=\"text-align: right;\">\n",
       "      <th></th>\n",
       "      <th>Unnamed: 0</th>\n",
       "      <th>V_TYPE_18</th>\n",
       "      <th>V_TYPE_10</th>\n",
       "      <th>C_HOUR_04</th>\n",
       "      <th>C_WDAY_6</th>\n",
       "      <th>C_WDAY_6.1</th>\n",
       "      <th>C_WDAY_1</th>\n",
       "      <th>C_WDAY_1.1</th>\n",
       "      <th>C_MNTH_12</th>\n",
       "      <th>C_HOUR_11</th>\n",
       "      <th>...</th>\n",
       "      <th>V_TYPE_22</th>\n",
       "      <th>C_MNTH_5</th>\n",
       "      <th>C_WTHR_4</th>\n",
       "      <th>C_WDAY_7</th>\n",
       "      <th>C_WDAY_7.1</th>\n",
       "      <th>C_HOUR_21</th>\n",
       "      <th>C_RSUR_4</th>\n",
       "      <th>C_RCFG_02</th>\n",
       "      <th>C_TRAF_04</th>\n",
       "      <th>C_HOUR_14</th>\n",
       "    </tr>\n",
       "  </thead>\n",
       "  <tbody>\n",
       "    <tr>\n",
       "      <td>0</td>\n",
       "      <td>165385</td>\n",
       "      <td>0</td>\n",
       "      <td>0</td>\n",
       "      <td>0</td>\n",
       "      <td>0</td>\n",
       "      <td>0</td>\n",
       "      <td>0</td>\n",
       "      <td>0</td>\n",
       "      <td>0</td>\n",
       "      <td>0</td>\n",
       "      <td>...</td>\n",
       "      <td>0</td>\n",
       "      <td>0</td>\n",
       "      <td>0</td>\n",
       "      <td>0</td>\n",
       "      <td>0</td>\n",
       "      <td>0</td>\n",
       "      <td>0</td>\n",
       "      <td>1</td>\n",
       "      <td>1</td>\n",
       "      <td>0</td>\n",
       "    </tr>\n",
       "  </tbody>\n",
       "</table>\n",
       "<p>1 rows × 119 columns</p>\n",
       "</div>"
      ],
      "text/plain": [
       "   Unnamed: 0  V_TYPE_18  V_TYPE_10  C_HOUR_04  C_WDAY_6  C_WDAY_6.1  \\\n",
       "0      165385          0          0          0         0           0   \n",
       "\n",
       "   C_WDAY_1  C_WDAY_1.1  C_MNTH_12  C_HOUR_11  ...  V_TYPE_22  C_MNTH_5  \\\n",
       "0         0           0          0          0  ...          0         0   \n",
       "\n",
       "   C_WTHR_4  C_WDAY_7  C_WDAY_7.1  C_HOUR_21  C_RSUR_4  C_RCFG_02  C_TRAF_04  \\\n",
       "0         0         0           0          0         0          1          1   \n",
       "\n",
       "   C_HOUR_14  \n",
       "0          0  \n",
       "\n",
       "[1 rows x 119 columns]"
      ]
     },
<<<<<<< HEAD
     "execution_count": 18,
=======
     "execution_count": 2,
>>>>>>> 7887975753b9f886bd9b2607ec68689955382ae4
     "metadata": {},
     "output_type": "execute_result"
    }
   ],
   "source": [
    "df = pd.read_csv('cleaned.csv')\n",
    "df.head(1)"
   ]
  },
  {
   "cell_type": "code",
   "execution_count": 3,
   "metadata": {},
   "outputs": [],
   "source": [
    "df = df.drop(columns = 'Unnamed: 0', axis =0)"
   ]
  },
  {
   "cell_type": "code",
   "execution_count": 4,
   "metadata": {},
   "outputs": [
    {
     "data": {
      "text/plain": [
       "Index(['V_TYPE_18', 'V_TYPE_10', 'C_HOUR_04', 'C_WDAY_6', 'C_WDAY_6.1',\n",
       "       'C_WDAY_1', 'C_WDAY_1.1', 'C_MNTH_12', 'C_HOUR_11', 'C_HOUR_03',\n",
       "       ...\n",
       "       'V_TYPE_22', 'C_MNTH_5', 'C_WTHR_4', 'C_WDAY_7', 'C_WDAY_7.1',\n",
       "       'C_HOUR_21', 'C_RSUR_4', 'C_RCFG_02', 'C_TRAF_04', 'C_HOUR_14'],\n",
       "      dtype='object', length=118)"
      ]
     },
     "execution_count": 4,
     "metadata": {},
     "output_type": "execute_result"
    }
   ],
   "source": [
    "(df.columns)"
   ]
  },
  {
   "cell_type": "code",
   "execution_count": 5,
   "metadata": {},
   "outputs": [
    {
     "ename": "KeyboardInterrupt",
     "evalue": "",
     "output_type": "error",
     "traceback": [
      "\u001b[0;31m---------------------------------------------------------------------------\u001b[0m",
      "\u001b[0;31mKeyboardInterrupt\u001b[0m                         Traceback (most recent call last)",
      "\u001b[0;32m<ipython-input-5-f73b8fb1b4c2>\u001b[0m in \u001b[0;36m<module>\u001b[0;34m\u001b[0m\n\u001b[1;32m      1\u001b[0m \u001b[0mplt\u001b[0m\u001b[0;34m.\u001b[0m\u001b[0mfigure\u001b[0m\u001b[0;34m(\u001b[0m\u001b[0mfigsize\u001b[0m\u001b[0;34m=\u001b[0m\u001b[0;34m(\u001b[0m\u001b[0;36m50\u001b[0m\u001b[0;34m,\u001b[0m\u001b[0;36m50\u001b[0m\u001b[0;34m)\u001b[0m\u001b[0;34m)\u001b[0m\u001b[0;34m\u001b[0m\u001b[0;34m\u001b[0m\u001b[0m\n\u001b[0;32m----> 2\u001b[0;31m \u001b[0msns\u001b[0m\u001b[0;34m.\u001b[0m\u001b[0mheatmap\u001b[0m\u001b[0;34m(\u001b[0m \u001b[0mdf\u001b[0m\u001b[0;34m.\u001b[0m\u001b[0mcorr\u001b[0m\u001b[0;34m(\u001b[0m\u001b[0;34m)\u001b[0m\u001b[0;34m,\u001b[0m \u001b[0mannot\u001b[0m\u001b[0;34m=\u001b[0m\u001b[0;32mTrue\u001b[0m\u001b[0;34m,\u001b[0m \u001b[0mcmap\u001b[0m\u001b[0;34m=\u001b[0m\u001b[0mplt\u001b[0m\u001b[0;34m.\u001b[0m\u001b[0mcm\u001b[0m\u001b[0;34m.\u001b[0m\u001b[0mBlues\u001b[0m\u001b[0;34m)\u001b[0m\u001b[0;34m\u001b[0m\u001b[0;34m\u001b[0m\u001b[0m\n\u001b[0m\u001b[1;32m      3\u001b[0m \u001b[0mplt\u001b[0m\u001b[0;34m.\u001b[0m\u001b[0mshow\u001b[0m\u001b[0;34m(\u001b[0m\u001b[0;34m)\u001b[0m\u001b[0;34m\u001b[0m\u001b[0;34m\u001b[0m\u001b[0m\n",
      "\u001b[0;32m~/opt/anaconda3/envs/ubc_mds/lib/python3.7/site-packages/seaborn/matrix.py\u001b[0m in \u001b[0;36mheatmap\u001b[0;34m(data, vmin, vmax, cmap, center, robust, annot, fmt, annot_kws, linewidths, linecolor, cbar, cbar_kws, cbar_ax, square, xticklabels, yticklabels, mask, ax, **kwargs)\u001b[0m\n\u001b[1;32m    526\u001b[0m     \u001b[0;32mif\u001b[0m \u001b[0msquare\u001b[0m\u001b[0;34m:\u001b[0m\u001b[0;34m\u001b[0m\u001b[0;34m\u001b[0m\u001b[0m\n\u001b[1;32m    527\u001b[0m         \u001b[0max\u001b[0m\u001b[0;34m.\u001b[0m\u001b[0mset_aspect\u001b[0m\u001b[0;34m(\u001b[0m\u001b[0;34m\"equal\"\u001b[0m\u001b[0;34m)\u001b[0m\u001b[0;34m\u001b[0m\u001b[0;34m\u001b[0m\u001b[0m\n\u001b[0;32m--> 528\u001b[0;31m     \u001b[0mplotter\u001b[0m\u001b[0;34m.\u001b[0m\u001b[0mplot\u001b[0m\u001b[0;34m(\u001b[0m\u001b[0max\u001b[0m\u001b[0;34m,\u001b[0m \u001b[0mcbar_ax\u001b[0m\u001b[0;34m,\u001b[0m \u001b[0mkwargs\u001b[0m\u001b[0;34m)\u001b[0m\u001b[0;34m\u001b[0m\u001b[0;34m\u001b[0m\u001b[0m\n\u001b[0m\u001b[1;32m    529\u001b[0m     \u001b[0;32mreturn\u001b[0m \u001b[0max\u001b[0m\u001b[0;34m\u001b[0m\u001b[0;34m\u001b[0m\u001b[0m\n\u001b[1;32m    530\u001b[0m \u001b[0;34m\u001b[0m\u001b[0m\n",
      "\u001b[0;32m~/opt/anaconda3/envs/ubc_mds/lib/python3.7/site-packages/seaborn/matrix.py\u001b[0m in \u001b[0;36mplot\u001b[0;34m(self, ax, cax, kws)\u001b[0m\n\u001b[1;32m    310\u001b[0m             \u001b[0myticks\u001b[0m\u001b[0;34m,\u001b[0m \u001b[0myticklabels\u001b[0m \u001b[0;34m=\u001b[0m \u001b[0mself\u001b[0m\u001b[0;34m.\u001b[0m\u001b[0myticks\u001b[0m\u001b[0;34m,\u001b[0m \u001b[0mself\u001b[0m\u001b[0;34m.\u001b[0m\u001b[0myticklabels\u001b[0m\u001b[0;34m\u001b[0m\u001b[0;34m\u001b[0m\u001b[0m\n\u001b[1;32m    311\u001b[0m \u001b[0;34m\u001b[0m\u001b[0m\n\u001b[0;32m--> 312\u001b[0;31m         \u001b[0max\u001b[0m\u001b[0;34m.\u001b[0m\u001b[0mset\u001b[0m\u001b[0;34m(\u001b[0m\u001b[0mxticks\u001b[0m\u001b[0;34m=\u001b[0m\u001b[0mxticks\u001b[0m\u001b[0;34m,\u001b[0m \u001b[0myticks\u001b[0m\u001b[0;34m=\u001b[0m\u001b[0myticks\u001b[0m\u001b[0;34m)\u001b[0m\u001b[0;34m\u001b[0m\u001b[0;34m\u001b[0m\u001b[0m\n\u001b[0m\u001b[1;32m    313\u001b[0m         \u001b[0mxtl\u001b[0m \u001b[0;34m=\u001b[0m \u001b[0max\u001b[0m\u001b[0;34m.\u001b[0m\u001b[0mset_xticklabels\u001b[0m\u001b[0;34m(\u001b[0m\u001b[0mxticklabels\u001b[0m\u001b[0;34m)\u001b[0m\u001b[0;34m\u001b[0m\u001b[0;34m\u001b[0m\u001b[0m\n\u001b[1;32m    314\u001b[0m         \u001b[0mytl\u001b[0m \u001b[0;34m=\u001b[0m \u001b[0max\u001b[0m\u001b[0;34m.\u001b[0m\u001b[0mset_yticklabels\u001b[0m\u001b[0;34m(\u001b[0m\u001b[0myticklabels\u001b[0m\u001b[0;34m,\u001b[0m \u001b[0mrotation\u001b[0m\u001b[0;34m=\u001b[0m\u001b[0;34m\"vertical\"\u001b[0m\u001b[0;34m)\u001b[0m\u001b[0;34m\u001b[0m\u001b[0;34m\u001b[0m\u001b[0m\n",
      "\u001b[0;32m~/opt/anaconda3/envs/ubc_mds/lib/python3.7/site-packages/matplotlib/artist.py\u001b[0m in \u001b[0;36mset\u001b[0;34m(self, **kwargs)\u001b[0m\n\u001b[1;32m   1069\u001b[0m             sorted(kwargs.items(), reverse=True,\n\u001b[1;32m   1070\u001b[0m                    key=lambda x: (self._prop_order.get(x[0], 0), x[0])))\n\u001b[0;32m-> 1071\u001b[0;31m         \u001b[0;32mreturn\u001b[0m \u001b[0mself\u001b[0m\u001b[0;34m.\u001b[0m\u001b[0mupdate\u001b[0m\u001b[0;34m(\u001b[0m\u001b[0mprops\u001b[0m\u001b[0;34m)\u001b[0m\u001b[0;34m\u001b[0m\u001b[0;34m\u001b[0m\u001b[0m\n\u001b[0m\u001b[1;32m   1072\u001b[0m \u001b[0;34m\u001b[0m\u001b[0m\n\u001b[1;32m   1073\u001b[0m     \u001b[0;32mdef\u001b[0m \u001b[0mfindobj\u001b[0m\u001b[0;34m(\u001b[0m\u001b[0mself\u001b[0m\u001b[0;34m,\u001b[0m \u001b[0mmatch\u001b[0m\u001b[0;34m=\u001b[0m\u001b[0;32mNone\u001b[0m\u001b[0;34m,\u001b[0m \u001b[0minclude_self\u001b[0m\u001b[0;34m=\u001b[0m\u001b[0;32mTrue\u001b[0m\u001b[0;34m)\u001b[0m\u001b[0;34m:\u001b[0m\u001b[0;34m\u001b[0m\u001b[0;34m\u001b[0m\u001b[0m\n",
      "\u001b[0;32m~/opt/anaconda3/envs/ubc_mds/lib/python3.7/site-packages/matplotlib/artist.py\u001b[0m in \u001b[0;36mupdate\u001b[0;34m(self, props)\u001b[0m\n\u001b[1;32m    972\u001b[0m \u001b[0;34m\u001b[0m\u001b[0m\n\u001b[1;32m    973\u001b[0m         \u001b[0;32mwith\u001b[0m \u001b[0mcbook\u001b[0m\u001b[0;34m.\u001b[0m\u001b[0m_setattr_cm\u001b[0m\u001b[0;34m(\u001b[0m\u001b[0mself\u001b[0m\u001b[0;34m,\u001b[0m \u001b[0meventson\u001b[0m\u001b[0;34m=\u001b[0m\u001b[0;32mFalse\u001b[0m\u001b[0;34m)\u001b[0m\u001b[0;34m:\u001b[0m\u001b[0;34m\u001b[0m\u001b[0;34m\u001b[0m\u001b[0m\n\u001b[0;32m--> 974\u001b[0;31m             \u001b[0mret\u001b[0m \u001b[0;34m=\u001b[0m \u001b[0;34m[\u001b[0m\u001b[0m_update_property\u001b[0m\u001b[0;34m(\u001b[0m\u001b[0mself\u001b[0m\u001b[0;34m,\u001b[0m \u001b[0mk\u001b[0m\u001b[0;34m,\u001b[0m \u001b[0mv\u001b[0m\u001b[0;34m)\u001b[0m \u001b[0;32mfor\u001b[0m \u001b[0mk\u001b[0m\u001b[0;34m,\u001b[0m \u001b[0mv\u001b[0m \u001b[0;32min\u001b[0m \u001b[0mprops\u001b[0m\u001b[0;34m.\u001b[0m\u001b[0mitems\u001b[0m\u001b[0;34m(\u001b[0m\u001b[0;34m)\u001b[0m\u001b[0;34m]\u001b[0m\u001b[0;34m\u001b[0m\u001b[0;34m\u001b[0m\u001b[0m\n\u001b[0m\u001b[1;32m    975\u001b[0m \u001b[0;34m\u001b[0m\u001b[0m\n\u001b[1;32m    976\u001b[0m         \u001b[0;32mif\u001b[0m \u001b[0mlen\u001b[0m\u001b[0;34m(\u001b[0m\u001b[0mret\u001b[0m\u001b[0;34m)\u001b[0m\u001b[0;34m:\u001b[0m\u001b[0;34m\u001b[0m\u001b[0;34m\u001b[0m\u001b[0m\n",
      "\u001b[0;32m~/opt/anaconda3/envs/ubc_mds/lib/python3.7/site-packages/matplotlib/artist.py\u001b[0m in \u001b[0;36m<listcomp>\u001b[0;34m(.0)\u001b[0m\n\u001b[1;32m    972\u001b[0m \u001b[0;34m\u001b[0m\u001b[0m\n\u001b[1;32m    973\u001b[0m         \u001b[0;32mwith\u001b[0m \u001b[0mcbook\u001b[0m\u001b[0;34m.\u001b[0m\u001b[0m_setattr_cm\u001b[0m\u001b[0;34m(\u001b[0m\u001b[0mself\u001b[0m\u001b[0;34m,\u001b[0m \u001b[0meventson\u001b[0m\u001b[0;34m=\u001b[0m\u001b[0;32mFalse\u001b[0m\u001b[0;34m)\u001b[0m\u001b[0;34m:\u001b[0m\u001b[0;34m\u001b[0m\u001b[0;34m\u001b[0m\u001b[0m\n\u001b[0;32m--> 974\u001b[0;31m             \u001b[0mret\u001b[0m \u001b[0;34m=\u001b[0m \u001b[0;34m[\u001b[0m\u001b[0m_update_property\u001b[0m\u001b[0;34m(\u001b[0m\u001b[0mself\u001b[0m\u001b[0;34m,\u001b[0m \u001b[0mk\u001b[0m\u001b[0;34m,\u001b[0m \u001b[0mv\u001b[0m\u001b[0;34m)\u001b[0m \u001b[0;32mfor\u001b[0m \u001b[0mk\u001b[0m\u001b[0;34m,\u001b[0m \u001b[0mv\u001b[0m \u001b[0;32min\u001b[0m \u001b[0mprops\u001b[0m\u001b[0;34m.\u001b[0m\u001b[0mitems\u001b[0m\u001b[0;34m(\u001b[0m\u001b[0;34m)\u001b[0m\u001b[0;34m]\u001b[0m\u001b[0;34m\u001b[0m\u001b[0;34m\u001b[0m\u001b[0m\n\u001b[0m\u001b[1;32m    975\u001b[0m \u001b[0;34m\u001b[0m\u001b[0m\n\u001b[1;32m    976\u001b[0m         \u001b[0;32mif\u001b[0m \u001b[0mlen\u001b[0m\u001b[0;34m(\u001b[0m\u001b[0mret\u001b[0m\u001b[0;34m)\u001b[0m\u001b[0;34m:\u001b[0m\u001b[0;34m\u001b[0m\u001b[0;34m\u001b[0m\u001b[0m\n",
      "\u001b[0;32m~/opt/anaconda3/envs/ubc_mds/lib/python3.7/site-packages/matplotlib/artist.py\u001b[0m in \u001b[0;36m_update_property\u001b[0;34m(self, k, v)\u001b[0m\n\u001b[1;32m    969\u001b[0m                     raise AttributeError('{!r} object has no property {!r}'\n\u001b[1;32m    970\u001b[0m                                          .format(type(self).__name__, k))\n\u001b[0;32m--> 971\u001b[0;31m                 \u001b[0;32mreturn\u001b[0m \u001b[0mfunc\u001b[0m\u001b[0;34m(\u001b[0m\u001b[0mv\u001b[0m\u001b[0;34m)\u001b[0m\u001b[0;34m\u001b[0m\u001b[0;34m\u001b[0m\u001b[0m\n\u001b[0m\u001b[1;32m    972\u001b[0m \u001b[0;34m\u001b[0m\u001b[0m\n\u001b[1;32m    973\u001b[0m         \u001b[0;32mwith\u001b[0m \u001b[0mcbook\u001b[0m\u001b[0;34m.\u001b[0m\u001b[0m_setattr_cm\u001b[0m\u001b[0;34m(\u001b[0m\u001b[0mself\u001b[0m\u001b[0;34m,\u001b[0m \u001b[0meventson\u001b[0m\u001b[0;34m=\u001b[0m\u001b[0;32mFalse\u001b[0m\u001b[0;34m)\u001b[0m\u001b[0;34m:\u001b[0m\u001b[0;34m\u001b[0m\u001b[0;34m\u001b[0m\u001b[0m\n",
      "\u001b[0;32m~/opt/anaconda3/envs/ubc_mds/lib/python3.7/site-packages/matplotlib/axes/_base.py\u001b[0m in \u001b[0;36mset_yticks\u001b[0;34m(self, ticks, minor)\u001b[0m\n\u001b[1;32m   3728\u001b[0m             \u001b[0mDefault\u001b[0m \u001b[0;32mis\u001b[0m\u001b[0;31m \u001b[0m\u001b[0;31m`\u001b[0m\u001b[0;31m`\u001b[0m\u001b[0;32mFalse\u001b[0m\u001b[0;31m`\u001b[0m\u001b[0;31m`\u001b[0m\u001b[0;34m.\u001b[0m\u001b[0;34m\u001b[0m\u001b[0;34m\u001b[0m\u001b[0m\n\u001b[1;32m   3729\u001b[0m         \"\"\"\n\u001b[0;32m-> 3730\u001b[0;31m         \u001b[0mret\u001b[0m \u001b[0;34m=\u001b[0m \u001b[0mself\u001b[0m\u001b[0;34m.\u001b[0m\u001b[0myaxis\u001b[0m\u001b[0;34m.\u001b[0m\u001b[0mset_ticks\u001b[0m\u001b[0;34m(\u001b[0m\u001b[0mticks\u001b[0m\u001b[0;34m,\u001b[0m \u001b[0mminor\u001b[0m\u001b[0;34m=\u001b[0m\u001b[0mminor\u001b[0m\u001b[0;34m)\u001b[0m\u001b[0;34m\u001b[0m\u001b[0;34m\u001b[0m\u001b[0m\n\u001b[0m\u001b[1;32m   3731\u001b[0m         \u001b[0;32mreturn\u001b[0m \u001b[0mret\u001b[0m\u001b[0;34m\u001b[0m\u001b[0;34m\u001b[0m\u001b[0m\n\u001b[1;32m   3732\u001b[0m \u001b[0;34m\u001b[0m\u001b[0m\n",
      "\u001b[0;32m~/opt/anaconda3/envs/ubc_mds/lib/python3.7/site-packages/matplotlib/axis.py\u001b[0m in \u001b[0;36mset_ticks\u001b[0;34m(self, ticks, minor)\u001b[0m\n\u001b[1;32m   1761\u001b[0m         \u001b[0;32melse\u001b[0m\u001b[0;34m:\u001b[0m\u001b[0;34m\u001b[0m\u001b[0;34m\u001b[0m\u001b[0m\n\u001b[1;32m   1762\u001b[0m             \u001b[0mself\u001b[0m\u001b[0;34m.\u001b[0m\u001b[0mset_major_locator\u001b[0m\u001b[0;34m(\u001b[0m\u001b[0mmticker\u001b[0m\u001b[0;34m.\u001b[0m\u001b[0mFixedLocator\u001b[0m\u001b[0;34m(\u001b[0m\u001b[0mticks\u001b[0m\u001b[0;34m)\u001b[0m\u001b[0;34m)\u001b[0m\u001b[0;34m\u001b[0m\u001b[0;34m\u001b[0m\u001b[0m\n\u001b[0;32m-> 1763\u001b[0;31m             \u001b[0;32mreturn\u001b[0m \u001b[0mself\u001b[0m\u001b[0;34m.\u001b[0m\u001b[0mget_major_ticks\u001b[0m\u001b[0;34m(\u001b[0m\u001b[0mlen\u001b[0m\u001b[0;34m(\u001b[0m\u001b[0mticks\u001b[0m\u001b[0;34m)\u001b[0m\u001b[0;34m)\u001b[0m\u001b[0;34m\u001b[0m\u001b[0;34m\u001b[0m\u001b[0m\n\u001b[0m\u001b[1;32m   1764\u001b[0m \u001b[0;34m\u001b[0m\u001b[0m\n\u001b[1;32m   1765\u001b[0m     \u001b[0;32mdef\u001b[0m \u001b[0m_get_tick_boxes_siblings\u001b[0m\u001b[0;34m(\u001b[0m\u001b[0mself\u001b[0m\u001b[0;34m,\u001b[0m \u001b[0mxdir\u001b[0m\u001b[0;34m,\u001b[0m \u001b[0mrenderer\u001b[0m\u001b[0;34m)\u001b[0m\u001b[0;34m:\u001b[0m\u001b[0;34m\u001b[0m\u001b[0;34m\u001b[0m\u001b[0m\n",
      "\u001b[0;32m~/opt/anaconda3/envs/ubc_mds/lib/python3.7/site-packages/matplotlib/axis.py\u001b[0m in \u001b[0;36mget_major_ticks\u001b[0;34m(self, numticks)\u001b[0m\n\u001b[1;32m   1409\u001b[0m         \u001b[0;32mwhile\u001b[0m \u001b[0mlen\u001b[0m\u001b[0;34m(\u001b[0m\u001b[0mself\u001b[0m\u001b[0;34m.\u001b[0m\u001b[0mmajorTicks\u001b[0m\u001b[0;34m)\u001b[0m \u001b[0;34m<\u001b[0m \u001b[0mnumticks\u001b[0m\u001b[0;34m:\u001b[0m\u001b[0;34m\u001b[0m\u001b[0;34m\u001b[0m\u001b[0m\n\u001b[1;32m   1410\u001b[0m             \u001b[0;31m# Update the new tick label properties from the old.\u001b[0m\u001b[0;34m\u001b[0m\u001b[0;34m\u001b[0m\u001b[0;34m\u001b[0m\u001b[0m\n\u001b[0;32m-> 1411\u001b[0;31m             \u001b[0mtick\u001b[0m \u001b[0;34m=\u001b[0m \u001b[0mself\u001b[0m\u001b[0;34m.\u001b[0m\u001b[0m_get_tick\u001b[0m\u001b[0;34m(\u001b[0m\u001b[0mmajor\u001b[0m\u001b[0;34m=\u001b[0m\u001b[0;32mTrue\u001b[0m\u001b[0;34m)\u001b[0m\u001b[0;34m\u001b[0m\u001b[0;34m\u001b[0m\u001b[0m\n\u001b[0m\u001b[1;32m   1412\u001b[0m             \u001b[0mself\u001b[0m\u001b[0;34m.\u001b[0m\u001b[0mmajorTicks\u001b[0m\u001b[0;34m.\u001b[0m\u001b[0mappend\u001b[0m\u001b[0;34m(\u001b[0m\u001b[0mtick\u001b[0m\u001b[0;34m)\u001b[0m\u001b[0;34m\u001b[0m\u001b[0;34m\u001b[0m\u001b[0m\n\u001b[1;32m   1413\u001b[0m             \u001b[0mtick\u001b[0m\u001b[0;34m.\u001b[0m\u001b[0mgridline\u001b[0m\u001b[0;34m.\u001b[0m\u001b[0mset_visible\u001b[0m\u001b[0;34m(\u001b[0m\u001b[0mself\u001b[0m\u001b[0;34m.\u001b[0m\u001b[0m_gridOnMajor\u001b[0m\u001b[0;34m)\u001b[0m\u001b[0;34m\u001b[0m\u001b[0;34m\u001b[0m\u001b[0m\n",
      "\u001b[0;32m~/opt/anaconda3/envs/ubc_mds/lib/python3.7/site-packages/matplotlib/axis.py\u001b[0m in \u001b[0;36m_get_tick\u001b[0;34m(self, major)\u001b[0m\n\u001b[1;32m   2220\u001b[0m         \u001b[0;32melse\u001b[0m\u001b[0;34m:\u001b[0m\u001b[0;34m\u001b[0m\u001b[0;34m\u001b[0m\u001b[0m\n\u001b[1;32m   2221\u001b[0m             \u001b[0mtick_kw\u001b[0m \u001b[0;34m=\u001b[0m \u001b[0mself\u001b[0m\u001b[0;34m.\u001b[0m\u001b[0m_minor_tick_kw\u001b[0m\u001b[0;34m\u001b[0m\u001b[0;34m\u001b[0m\u001b[0m\n\u001b[0;32m-> 2222\u001b[0;31m         \u001b[0;32mreturn\u001b[0m \u001b[0mYTick\u001b[0m\u001b[0;34m(\u001b[0m\u001b[0mself\u001b[0m\u001b[0;34m.\u001b[0m\u001b[0maxes\u001b[0m\u001b[0;34m,\u001b[0m \u001b[0;36m0\u001b[0m\u001b[0;34m,\u001b[0m \u001b[0;34m''\u001b[0m\u001b[0;34m,\u001b[0m \u001b[0mmajor\u001b[0m\u001b[0;34m=\u001b[0m\u001b[0mmajor\u001b[0m\u001b[0;34m,\u001b[0m \u001b[0;34m**\u001b[0m\u001b[0mtick_kw\u001b[0m\u001b[0;34m)\u001b[0m\u001b[0;34m\u001b[0m\u001b[0;34m\u001b[0m\u001b[0m\n\u001b[0m\u001b[1;32m   2223\u001b[0m \u001b[0;34m\u001b[0m\u001b[0m\n\u001b[1;32m   2224\u001b[0m     \u001b[0;32mdef\u001b[0m \u001b[0m_get_label\u001b[0m\u001b[0;34m(\u001b[0m\u001b[0mself\u001b[0m\u001b[0;34m)\u001b[0m\u001b[0;34m:\u001b[0m\u001b[0;34m\u001b[0m\u001b[0;34m\u001b[0m\u001b[0m\n",
      "\u001b[0;32m~/opt/anaconda3/envs/ubc_mds/lib/python3.7/site-packages/matplotlib/axis.py\u001b[0m in \u001b[0;36m__init__\u001b[0;34m(self, axes, loc, label, size, width, color, tickdir, pad, labelsize, labelcolor, zorder, gridOn, tick1On, tick2On, label1On, label2On, major, labelrotation, grid_color, grid_linestyle, grid_linewidth, grid_alpha, **kw)\u001b[0m\n\u001b[1;32m    157\u001b[0m \u001b[0;34m\u001b[0m\u001b[0m\n\u001b[1;32m    158\u001b[0m         \u001b[0mself\u001b[0m\u001b[0;34m.\u001b[0m\u001b[0mtick1line\u001b[0m \u001b[0;34m=\u001b[0m \u001b[0mself\u001b[0m\u001b[0;34m.\u001b[0m\u001b[0m_get_tick1line\u001b[0m\u001b[0;34m(\u001b[0m\u001b[0;34m)\u001b[0m\u001b[0;34m\u001b[0m\u001b[0;34m\u001b[0m\u001b[0m\n\u001b[0;32m--> 159\u001b[0;31m         \u001b[0mself\u001b[0m\u001b[0;34m.\u001b[0m\u001b[0mtick2line\u001b[0m \u001b[0;34m=\u001b[0m \u001b[0mself\u001b[0m\u001b[0;34m.\u001b[0m\u001b[0m_get_tick2line\u001b[0m\u001b[0;34m(\u001b[0m\u001b[0;34m)\u001b[0m\u001b[0;34m\u001b[0m\u001b[0;34m\u001b[0m\u001b[0m\n\u001b[0m\u001b[1;32m    160\u001b[0m         \u001b[0mself\u001b[0m\u001b[0;34m.\u001b[0m\u001b[0mgridline\u001b[0m \u001b[0;34m=\u001b[0m \u001b[0mself\u001b[0m\u001b[0;34m.\u001b[0m\u001b[0m_get_gridline\u001b[0m\u001b[0;34m(\u001b[0m\u001b[0;34m)\u001b[0m\u001b[0;34m\u001b[0m\u001b[0;34m\u001b[0m\u001b[0m\n\u001b[1;32m    161\u001b[0m         \u001b[0mself\u001b[0m\u001b[0;34m.\u001b[0m\u001b[0mlabel1\u001b[0m \u001b[0;34m=\u001b[0m \u001b[0mself\u001b[0m\u001b[0;34m.\u001b[0m\u001b[0m_get_text1\u001b[0m\u001b[0;34m(\u001b[0m\u001b[0;34m)\u001b[0m\u001b[0;34m\u001b[0m\u001b[0;34m\u001b[0m\u001b[0m\n",
      "\u001b[0;32m~/opt/anaconda3/envs/ubc_mds/lib/python3.7/site-packages/matplotlib/axis.py\u001b[0m in \u001b[0;36m_get_tick2line\u001b[0;34m(self)\u001b[0m\n\u001b[1;32m    595\u001b[0m                           \u001b[0mmarkersize\u001b[0m\u001b[0;34m=\u001b[0m\u001b[0mself\u001b[0m\u001b[0;34m.\u001b[0m\u001b[0m_size\u001b[0m\u001b[0;34m,\u001b[0m\u001b[0;34m\u001b[0m\u001b[0;34m\u001b[0m\u001b[0m\n\u001b[1;32m    596\u001b[0m                           \u001b[0mmarkeredgewidth\u001b[0m\u001b[0;34m=\u001b[0m\u001b[0mself\u001b[0m\u001b[0;34m.\u001b[0m\u001b[0m_width\u001b[0m\u001b[0;34m,\u001b[0m\u001b[0;34m\u001b[0m\u001b[0;34m\u001b[0m\u001b[0m\n\u001b[0;32m--> 597\u001b[0;31m                           zorder=self._zorder)\n\u001b[0m\u001b[1;32m    598\u001b[0m         \u001b[0ml\u001b[0m\u001b[0;34m.\u001b[0m\u001b[0mset_transform\u001b[0m\u001b[0;34m(\u001b[0m\u001b[0mself\u001b[0m\u001b[0;34m.\u001b[0m\u001b[0maxes\u001b[0m\u001b[0;34m.\u001b[0m\u001b[0mget_yaxis_transform\u001b[0m\u001b[0;34m(\u001b[0m\u001b[0mwhich\u001b[0m\u001b[0;34m=\u001b[0m\u001b[0;34m'tick2'\u001b[0m\u001b[0;34m)\u001b[0m\u001b[0;34m)\u001b[0m\u001b[0;34m\u001b[0m\u001b[0;34m\u001b[0m\u001b[0m\n\u001b[1;32m    599\u001b[0m         \u001b[0mself\u001b[0m\u001b[0;34m.\u001b[0m\u001b[0m_set_artist_props\u001b[0m\u001b[0;34m(\u001b[0m\u001b[0ml\u001b[0m\u001b[0;34m)\u001b[0m\u001b[0;34m\u001b[0m\u001b[0;34m\u001b[0m\u001b[0m\n",
      "\u001b[0;32m~/opt/anaconda3/envs/ubc_mds/lib/python3.7/site-packages/matplotlib/lines.py\u001b[0m in \u001b[0;36m__init__\u001b[0;34m(self, xdata, ydata, linewidth, linestyle, color, marker, markersize, markeredgewidth, markeredgecolor, markerfacecolor, markerfacecoloralt, fillstyle, antialiased, dash_capstyle, solid_capstyle, dash_joinstyle, solid_joinstyle, pickradius, drawstyle, markevery, **kwargs)\u001b[0m\n\u001b[1;32m    380\u001b[0m         \u001b[0mself\u001b[0m\u001b[0;34m.\u001b[0m\u001b[0m_color\u001b[0m \u001b[0;34m=\u001b[0m \u001b[0;32mNone\u001b[0m\u001b[0;34m\u001b[0m\u001b[0;34m\u001b[0m\u001b[0m\n\u001b[1;32m    381\u001b[0m         \u001b[0mself\u001b[0m\u001b[0;34m.\u001b[0m\u001b[0mset_color\u001b[0m\u001b[0;34m(\u001b[0m\u001b[0mcolor\u001b[0m\u001b[0;34m)\u001b[0m\u001b[0;34m\u001b[0m\u001b[0;34m\u001b[0m\u001b[0m\n\u001b[0;32m--> 382\u001b[0;31m         \u001b[0mself\u001b[0m\u001b[0;34m.\u001b[0m\u001b[0m_marker\u001b[0m \u001b[0;34m=\u001b[0m \u001b[0mMarkerStyle\u001b[0m\u001b[0;34m(\u001b[0m\u001b[0mmarker\u001b[0m\u001b[0;34m,\u001b[0m \u001b[0mfillstyle\u001b[0m\u001b[0;34m)\u001b[0m\u001b[0;34m\u001b[0m\u001b[0;34m\u001b[0m\u001b[0m\n\u001b[0m\u001b[1;32m    383\u001b[0m \u001b[0;34m\u001b[0m\u001b[0m\n\u001b[1;32m    384\u001b[0m         \u001b[0mself\u001b[0m\u001b[0;34m.\u001b[0m\u001b[0m_markevery\u001b[0m \u001b[0;34m=\u001b[0m \u001b[0;32mNone\u001b[0m\u001b[0;34m\u001b[0m\u001b[0;34m\u001b[0m\u001b[0m\n",
      "\u001b[0;32m~/opt/anaconda3/envs/ubc_mds/lib/python3.7/site-packages/matplotlib/markers.py\u001b[0m in \u001b[0;36m__init__\u001b[0;34m(self, marker, fillstyle)\u001b[0m\n\u001b[1;32m    241\u001b[0m         \u001b[0mself\u001b[0m\u001b[0;34m.\u001b[0m\u001b[0m_marker_function\u001b[0m \u001b[0;34m=\u001b[0m \u001b[0;32mNone\u001b[0m\u001b[0;34m\u001b[0m\u001b[0;34m\u001b[0m\u001b[0m\n\u001b[1;32m    242\u001b[0m         \u001b[0mself\u001b[0m\u001b[0;34m.\u001b[0m\u001b[0mset_fillstyle\u001b[0m\u001b[0;34m(\u001b[0m\u001b[0mfillstyle\u001b[0m\u001b[0;34m)\u001b[0m\u001b[0;34m\u001b[0m\u001b[0;34m\u001b[0m\u001b[0m\n\u001b[0;32m--> 243\u001b[0;31m         \u001b[0mself\u001b[0m\u001b[0;34m.\u001b[0m\u001b[0mset_marker\u001b[0m\u001b[0;34m(\u001b[0m\u001b[0mmarker\u001b[0m\u001b[0;34m)\u001b[0m\u001b[0;34m\u001b[0m\u001b[0;34m\u001b[0m\u001b[0m\n\u001b[0m\u001b[1;32m    244\u001b[0m \u001b[0;34m\u001b[0m\u001b[0m\n\u001b[1;32m    245\u001b[0m     \u001b[0;32mdef\u001b[0m \u001b[0m_recache\u001b[0m\u001b[0;34m(\u001b[0m\u001b[0mself\u001b[0m\u001b[0;34m)\u001b[0m\u001b[0;34m:\u001b[0m\u001b[0;34m\u001b[0m\u001b[0;34m\u001b[0m\u001b[0m\n",
      "\u001b[0;32m~/opt/anaconda3/envs/ubc_mds/lib/python3.7/site-packages/matplotlib/markers.py\u001b[0m in \u001b[0;36mset_marker\u001b[0;34m(self, marker)\u001b[0m\n\u001b[1;32m    314\u001b[0m \u001b[0;34m\u001b[0m\u001b[0m\n\u001b[1;32m    315\u001b[0m         \u001b[0mself\u001b[0m\u001b[0;34m.\u001b[0m\u001b[0m_marker\u001b[0m \u001b[0;34m=\u001b[0m \u001b[0mmarker\u001b[0m\u001b[0;34m\u001b[0m\u001b[0;34m\u001b[0m\u001b[0m\n\u001b[0;32m--> 316\u001b[0;31m         \u001b[0mself\u001b[0m\u001b[0;34m.\u001b[0m\u001b[0m_recache\u001b[0m\u001b[0;34m(\u001b[0m\u001b[0;34m)\u001b[0m\u001b[0;34m\u001b[0m\u001b[0;34m\u001b[0m\u001b[0m\n\u001b[0m\u001b[1;32m    317\u001b[0m \u001b[0;34m\u001b[0m\u001b[0m\n\u001b[1;32m    318\u001b[0m     \u001b[0;32mdef\u001b[0m \u001b[0mget_path\u001b[0m\u001b[0;34m(\u001b[0m\u001b[0mself\u001b[0m\u001b[0;34m)\u001b[0m\u001b[0;34m:\u001b[0m\u001b[0;34m\u001b[0m\u001b[0;34m\u001b[0m\u001b[0m\n",
      "\u001b[0;32m~/opt/anaconda3/envs/ubc_mds/lib/python3.7/site-packages/matplotlib/markers.py\u001b[0m in \u001b[0;36m_recache\u001b[0;34m(self)\u001b[0m\n\u001b[1;32m    254\u001b[0m         \u001b[0mself\u001b[0m\u001b[0;34m.\u001b[0m\u001b[0m_capstyle\u001b[0m \u001b[0;34m=\u001b[0m \u001b[0;34m'butt'\u001b[0m\u001b[0;34m\u001b[0m\u001b[0;34m\u001b[0m\u001b[0m\n\u001b[1;32m    255\u001b[0m         \u001b[0mself\u001b[0m\u001b[0;34m.\u001b[0m\u001b[0m_filled\u001b[0m \u001b[0;34m=\u001b[0m \u001b[0;32mTrue\u001b[0m\u001b[0;34m\u001b[0m\u001b[0;34m\u001b[0m\u001b[0m\n\u001b[0;32m--> 256\u001b[0;31m         \u001b[0mself\u001b[0m\u001b[0;34m.\u001b[0m\u001b[0m_marker_function\u001b[0m\u001b[0;34m(\u001b[0m\u001b[0;34m)\u001b[0m\u001b[0;34m\u001b[0m\u001b[0;34m\u001b[0m\u001b[0m\n\u001b[0m\u001b[1;32m    257\u001b[0m \u001b[0;34m\u001b[0m\u001b[0m\n\u001b[1;32m    258\u001b[0m     \u001b[0;32mdef\u001b[0m \u001b[0m__bool__\u001b[0m\u001b[0;34m(\u001b[0m\u001b[0mself\u001b[0m\u001b[0;34m)\u001b[0m\u001b[0;34m:\u001b[0m\u001b[0;34m\u001b[0m\u001b[0;34m\u001b[0m\u001b[0m\n",
      "\u001b[0;32m~/opt/anaconda3/envs/ubc_mds/lib/python3.7/site-packages/matplotlib/markers.py\u001b[0m in \u001b[0;36m_set_tickright\u001b[0;34m(self)\u001b[0m\n\u001b[1;32m    753\u001b[0m \u001b[0;34m\u001b[0m\u001b[0m\n\u001b[1;32m    754\u001b[0m     \u001b[0;32mdef\u001b[0m \u001b[0m_set_tickright\u001b[0m\u001b[0;34m(\u001b[0m\u001b[0mself\u001b[0m\u001b[0;34m)\u001b[0m\u001b[0;34m:\u001b[0m\u001b[0;34m\u001b[0m\u001b[0;34m\u001b[0m\u001b[0m\n\u001b[0;32m--> 755\u001b[0;31m         \u001b[0mself\u001b[0m\u001b[0;34m.\u001b[0m\u001b[0m_transform\u001b[0m \u001b[0;34m=\u001b[0m \u001b[0mAffine2D\u001b[0m\u001b[0;34m(\u001b[0m\u001b[0;34m)\u001b[0m\u001b[0;34m.\u001b[0m\u001b[0mscale\u001b[0m\u001b[0;34m(\u001b[0m\u001b[0;36m1.0\u001b[0m\u001b[0;34m,\u001b[0m \u001b[0;36m1.0\u001b[0m\u001b[0;34m)\u001b[0m\u001b[0;34m\u001b[0m\u001b[0;34m\u001b[0m\u001b[0m\n\u001b[0m\u001b[1;32m    756\u001b[0m         \u001b[0mself\u001b[0m\u001b[0;34m.\u001b[0m\u001b[0m_snap_threshold\u001b[0m \u001b[0;34m=\u001b[0m \u001b[0;36m1.0\u001b[0m\u001b[0;34m\u001b[0m\u001b[0;34m\u001b[0m\u001b[0m\n\u001b[1;32m    757\u001b[0m         \u001b[0mself\u001b[0m\u001b[0;34m.\u001b[0m\u001b[0m_filled\u001b[0m \u001b[0;34m=\u001b[0m \u001b[0;32mFalse\u001b[0m\u001b[0;34m\u001b[0m\u001b[0;34m\u001b[0m\u001b[0m\n",
      "\u001b[0;32m~/opt/anaconda3/envs/ubc_mds/lib/python3.7/site-packages/matplotlib/transforms.py\u001b[0m in \u001b[0;36mscale\u001b[0;34m(self, sx, sy)\u001b[0m\n\u001b[1;32m   1988\u001b[0m             \u001b[0msy\u001b[0m \u001b[0;34m=\u001b[0m \u001b[0msx\u001b[0m\u001b[0;34m\u001b[0m\u001b[0;34m\u001b[0m\u001b[0m\n\u001b[1;32m   1989\u001b[0m         scale_mtx = np.array(\n\u001b[0;32m-> 1990\u001b[0;31m             [[sx, 0.0, 0.0], [0.0, sy, 0.0], [0.0, 0.0, 1.0]], float)\n\u001b[0m\u001b[1;32m   1991\u001b[0m         \u001b[0mself\u001b[0m\u001b[0;34m.\u001b[0m\u001b[0m_mtx\u001b[0m \u001b[0;34m=\u001b[0m \u001b[0mnp\u001b[0m\u001b[0;34m.\u001b[0m\u001b[0mdot\u001b[0m\u001b[0;34m(\u001b[0m\u001b[0mscale_mtx\u001b[0m\u001b[0;34m,\u001b[0m \u001b[0mself\u001b[0m\u001b[0;34m.\u001b[0m\u001b[0m_mtx\u001b[0m\u001b[0;34m)\u001b[0m\u001b[0;34m\u001b[0m\u001b[0;34m\u001b[0m\u001b[0m\n\u001b[1;32m   1992\u001b[0m         \u001b[0mself\u001b[0m\u001b[0;34m.\u001b[0m\u001b[0minvalidate\u001b[0m\u001b[0;34m(\u001b[0m\u001b[0;34m)\u001b[0m\u001b[0;34m\u001b[0m\u001b[0;34m\u001b[0m\u001b[0m\n",
      "\u001b[0;31mKeyboardInterrupt\u001b[0m: "
     ]
    },
    {
     "data": {
      "image/png": "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\n",
      "text/plain": [
       "<Figure size 3600x3600 with 2 Axes>"
      ]
     },
     "metadata": {
      "needs_background": "light"
     },
     "output_type": "display_data"
    }
   ],
   "source": [
    "plt.figure(figsize=(50,50))\n",
    "sns.heatmap( df.corr(), annot=True, cmap=plt.cm.Blues)\n",
    "plt.show()"
   ]
  },
  {
   "cell_type": "code",
<<<<<<< HEAD
   "execution_count": 6,
=======
   "execution_count": 8,
>>>>>>> 7887975753b9f886bd9b2607ec68689955382ae4
   "metadata": {},
   "outputs": [],
   "source": [
    "X_train, X_valid, y_train, y_valid = train_test_split(df.drop(columns = 'C_SEV'), \n",
    "                                                      df['C_SEV'], \n",
    "                                                      test_size=0.2, \n",
    "                                                      random_state = 100)"
   ]
  },
  {
   "cell_type": "code",
<<<<<<< HEAD
   "execution_count": 7,
=======
   "execution_count": 9,
>>>>>>> 7887975753b9f886bd9b2607ec68689955382ae4
   "metadata": {},
   "outputs": [],
   "source": [
    "def fit_and_report(model, X, y, Xv, yv, mode = 'regression'):\n",
    "    \"\"\"\n",
    "    The function computes test and training error for regression or classification ML models.\n",
    "    \n",
    "    ----------\n",
    "    Argument\n",
    "        \n",
    "        model : Takes in a class of a ML model\n",
    "        \n",
    "        X : {array-like, sparse matrix} of shape (n_samples, n_features)\n",
    "        Training data of predictor\n",
    "        \n",
    "        y : array-like of shape (n_samples,) or (n_samples, n_targets)\n",
    "        Training data of target\n",
    "\n",
    "        Xv : {array-like, sparse matrix} of shape (n_samples, n_features)\n",
    "        Validation data of predictor\n",
    "        \n",
    "        yv : array-like of shape (n_samples,) or (n_samples, n_targets)  \n",
    "        Validation data of target\n",
    "        \n",
    "        mode : string of models which can be regression or classification\n",
    "    \n",
    "    ----------\n",
    "    Return:\n",
    "        errors : a list of training and test error\n",
    "    \n",
    "    ----------\n",
    "    Default\n",
    "        mode : takes in regression as default\n",
    "    \n",
    "    \n",
    "    ----------\n",
    "    Example\n",
    "        fit_and_report(svm, X_train, y_train, X_valid, y_valid)\n",
    "        >>>[13.783656508723558, 23.16818277751387]\n",
    "    \"\"\"\n",
    "    model.fit(X, y)\n",
    "    if mode.lower().startswith('regress'):\n",
    "        errors = [mean_squared_error(y, model.predict(X)), mean_squared_error(yv, model.predict(Xv))]\n",
    "    if mode.lower().startswith('classif'):\n",
    "        errors = [1 - model.score(X,y), 1 - model.score(Xv,yv)]        \n",
    "    return errors\n",
    "### END starter code"
   ]
  },
  {
   "cell_type": "code",
   "execution_count": null,
   "metadata": {},
   "outputs": [],
   "source": []
  },
  {
   "cell_type": "code",
<<<<<<< HEAD
   "execution_count": 12,
=======
   "execution_count": 10,
>>>>>>> 7887975753b9f886bd9b2607ec68689955382ae4
   "metadata": {},
   "outputs": [
    {
     "name": "stdout",
     "output_type": "stream",
     "text": [
      "Train error 0.01398\n",
      "Test error 0.01426\n"
     ]
    }
   ],
   "source": [
    "lgr = LogisticRegression(solver = 'liblinear')\n",
    "t = time.time()\n",
    "lgr_rfe = RFE(estimator= lgr, n_features_to_select=100)\n",
    "errors_lgr_rfe = fit_and_report(lgr_rfe, X_train, y_train,\n",
    "                                         X_valid, y_valid, \n",
    "                                         mode='classification')\n",
    "lgr_time = time.time() - t\n",
    "print('Train error %0.5f'%(errors_lgr_rfe[0]))\n",
    "print('Test error %0.5f'%(errors_lgr_rfe[1]))"
   ]
  },
  {
   "cell_type": "code",
<<<<<<< HEAD
   "execution_count": 8,
=======
   "execution_count": 11,
>>>>>>> 7887975753b9f886bd9b2607ec68689955382ae4
   "metadata": {},
   "outputs": [
    {
     "name": "stdout",
     "output_type": "stream",
     "text": [
<<<<<<< HEAD
      "Train error 0.00174\n",
      "Test error 0.00806\n"
=======
      "Train error 0.00663\n",
      "Test error 0.01185\n"
>>>>>>> 7887975753b9f886bd9b2607ec68689955382ae4
     ]
    }
   ],
   "source": [
    "rf = RandomForestClassifier(n_estimators=5)\n",
    "t = time.time()\n",
    "rf_rfe = RFE(estimator= rf, n_features_to_select=100)\n",
    "\n",
    "rf_time = time.time() - t\n",
    "errors_rf_rfe = fit_and_report(rf_rfe, X_train, y_train,\n",
    "                                         X_valid, y_valid, \n",
    "                                         mode='classification')\n",
    "\n",
    "print('Train error %0.5f'%(errors_rf_rfe[0]))\n",
    "print('Test error %0.5f'%(errors_rf_rfe[1]))"
   ]
  },
  {
   "cell_type": "code",
   "execution_count": null,
   "metadata": {},
   "outputs": [],
   "source": [
<<<<<<< HEAD
    "svm = SVC(kernel = 'rbf', gamma = 'scale')\n",
    "svm_rfe = RFE(estimator= svm, n_features_to_select=100)\n",
    "t = time.time()\n",
    "errors_svm_rfe = fit_and_report(svm, X_train, y_train,\n",
    "                                         X_valid, y_valid, \n",
    "                                         mode='classification')\n",
    "svm_time = time.time() - t\n",
    "print('Train error %0.5f'%(errors_svm_rfe[0]))\n",
    "print('Test error %0.5f'%(errors_svm_rfe[1]))"
=======
    "# svm = SVC(kernel = 'rbf', gamma = 'scale')\n",
    "# svm_rfe = RFE(estimator= svm, n_features_to_select=100)\n",
    "# t = time.time()\n",
    "# errors_svm_rfe = fit_and_report(svm, X_train, y_train,\n",
    "#                                          X_valid, y_valid, \n",
    "#                                          mode='classification')\n",
    "# svm_time = time.time() - t\n",
    "# print('Train error %0.5f'%(errors_svm_rfe[0]))\n",
    "# print('Test error %0.5f'%(errors_svm_rfe[1]))"
>>>>>>> 7887975753b9f886bd9b2607ec68689955382ae4
   ]
  },
  {
   "cell_type": "code",
<<<<<<< HEAD
   "execution_count": 22,
=======
   "execution_count": 13,
>>>>>>> 7887975753b9f886bd9b2607ec68689955382ae4
   "metadata": {},
   "outputs": [
    {
     "data": {
      "text/html": [
       "<div>\n",
       "<style scoped>\n",
       "    .dataframe tbody tr th:only-of-type {\n",
       "        vertical-align: middle;\n",
       "    }\n",
       "\n",
       "    .dataframe tbody tr th {\n",
       "        vertical-align: top;\n",
       "    }\n",
       "\n",
       "    .dataframe thead th {\n",
       "        text-align: right;\n",
       "    }\n",
       "</style>\n",
       "<table border=\"1\" class=\"dataframe\">\n",
       "  <thead>\n",
       "    <tr style=\"text-align: right;\">\n",
       "      <th></th>\n",
       "      <th>Logistic Regression</th>\n",
       "      <th>Random Forest</th>\n",
       "    </tr>\n",
       "  </thead>\n",
       "  <tbody>\n",
       "    <tr>\n",
<<<<<<< HEAD
       "      <td>0</td>\n",
       "      <td>0.013983</td>\n",
       "      <td>0.001735</td>\n",
       "    </tr>\n",
       "    <tr>\n",
       "      <td>1</td>\n",
       "      <td>0.014264</td>\n",
       "      <td>0.008065</td>\n",
       "    </tr>\n",
       "    <tr>\n",
       "      <td>2</td>\n",
       "      <td>13.537806</td>\n",
       "      <td>0.000058</td>\n",
=======
       "      <td>Train score</td>\n",
       "      <td>0.013990</td>\n",
       "      <td>0.006632</td>\n",
       "    </tr>\n",
       "    <tr>\n",
       "      <td>Test score</td>\n",
       "      <td>0.014292</td>\n",
       "      <td>0.011850</td>\n",
       "    </tr>\n",
       "    <tr>\n",
       "      <td>Time</td>\n",
       "      <td>43.535241</td>\n",
       "      <td>0.000000</td>\n",
>>>>>>> 7887975753b9f886bd9b2607ec68689955382ae4
       "    </tr>\n",
       "  </tbody>\n",
       "</table>\n",
       "</div>"
      ],
      "text/plain": [
<<<<<<< HEAD
       "   Logistic Regression  Random Forest\n",
       "0             0.013983       0.001735\n",
       "1             0.014264       0.008065\n",
       "2            13.537806       0.000058"
      ]
     },
     "execution_count": 22,
=======
       "             Logistic Regression  Random Forest\n",
       "Train score             0.013990       0.006632\n",
       "Test score              0.014292       0.011850\n",
       "Time                   43.535241       0.000000"
      ]
     },
     "execution_count": 13,
>>>>>>> 7887975753b9f886bd9b2607ec68689955382ae4
     "metadata": {},
     "output_type": "execute_result"
    }
   ],
   "source": [
<<<<<<< HEAD
    "pd.DataFrame({'Logistic Regression':[errors_lgr_rfe[0], errors_lgr_rfe[1], lgr_time],\n",
    "              'Random Forest' : [errors_rf_rfe[0],errors_rf_rfe[1], rf_time]})\n",
    "              #'SVM' : [errors_svm_rfe[0],errors_svm_rfe[1], svm_time]},\n",
    "#             index = ['Train score', 'Test score', 'Time'])"
=======
    "summary = pd.DataFrame({'Logistic Regression':[errors_lgr_rfe[0], errors_lgr_rfe[1], lgr_time],\n",
    "              'Random Forest' : [errors_rf_rfe[0],errors_rf_rfe[1], rf_time]},\n",
    "             index = ['Train score', 'Test score', 'Time'])\n",
    "summary"
>>>>>>> 7887975753b9f886bd9b2607ec68689955382ae4
   ]
  },
  {
   "cell_type": "code",
   "execution_count": 32,
   "metadata": {},
   "outputs": [],
   "source": [
    "confusion_matrix_lgr_train = confusion_matrix(y_train, lgr_rfe.predict(X_train))\n",
    "confusion_matrix_lgr_valid = confusion_matrix(y_valid, lgr_rfe.predict(X_valid))\n",
    "report_lgr = classification_report(y_valid, lgr_rfe.predict(X_valid))\n",
    "\n",
    "confusion_matrix_rfe_train = confusion_matrix(y_train, rf_rfe.predict(X_train))\n",
    "confusion_matrix_rfe_valid = confusion_matrix(y_valid, rf_rfe.predict(X_valid))\n",
    "report_rf = classification_report(y_valid, rf_rfe.predict(X_valid))\n"
   ]
  },
  {
   "cell_type": "markdown",
   "metadata": {},
   "source": [
    "**Confusion matrix for logistic regression approach**"
   ]
  },
  {
   "cell_type": "code",
<<<<<<< HEAD
   "execution_count": 15,
   "metadata": {},
   "outputs": [],
   "source": [
    "confusion_matrix_lgr = (y_train, lgr_rfe.predict(X_train))"
=======
   "execution_count": 33,
   "metadata": {},
   "outputs": [
    {
     "data": {
      "text/plain": [
       "array([[     0,   2039],\n",
       "       [     1, 143778]], dtype=int64)"
      ]
     },
     "execution_count": 33,
     "metadata": {},
     "output_type": "execute_result"
    }
   ],
   "source": [
    "confusion_matrix_lgr_train"
   ]
  },
  {
   "cell_type": "code",
   "execution_count": 34,
   "metadata": {},
   "outputs": [
    {
     "data": {
      "text/plain": [
       "array([[    0,   520],\n",
       "       [    1, 35934]], dtype=int64)"
      ]
     },
     "execution_count": 34,
     "metadata": {},
     "output_type": "execute_result"
    }
   ],
   "source": [
    "confusion_matrix_lgr_valid"
   ]
  },
  {
   "cell_type": "markdown",
   "metadata": {},
   "source": [
    "**Confusion matrix for logistic random forest approach**"
>>>>>>> 7887975753b9f886bd9b2607ec68689955382ae4
   ]
  },
  {
   "cell_type": "code",
<<<<<<< HEAD
   "execution_count": 16,
=======
   "execution_count": 35,
>>>>>>> 7887975753b9f886bd9b2607ec68689955382ae4
   "metadata": {},
   "outputs": [
    {
     "data": {
      "text/plain": [
<<<<<<< HEAD
       "(77902     2\n",
       " 155376    2\n",
       " 169633    2\n",
       " 162379    2\n",
       " 124519    2\n",
       "          ..\n",
       " 82270     2\n",
       " 65615     2\n",
       " 77655     2\n",
       " 56088     2\n",
       " 38408     2\n",
       " Name: C_SEV, Length: 145818, dtype: int64, array([2, 2, 2, ..., 2, 2, 2]))"
      ]
     },
     "execution_count": 16,
=======
       "array([[  1239,    800],\n",
       "       [   167, 143612]], dtype=int64)"
      ]
     },
     "execution_count": 35,
>>>>>>> 7887975753b9f886bd9b2607ec68689955382ae4
     "metadata": {},
     "output_type": "execute_result"
    }
   ],
   "source": [
<<<<<<< HEAD
    "confusion_matrix_lgr"
=======
    "confusion_matrix_rfe_train"
>>>>>>> 7887975753b9f886bd9b2607ec68689955382ae4
   ]
  },
  {
   "cell_type": "code",
<<<<<<< HEAD
   "execution_count": 19,
=======
   "execution_count": 36,
>>>>>>> 7887975753b9f886bd9b2607ec68689955382ae4
   "metadata": {},
   "outputs": [
    {
     "data": {
<<<<<<< HEAD
      "text/html": [
       "<div>\n",
       "<style scoped>\n",
       "    .dataframe tbody tr th:only-of-type {\n",
       "        vertical-align: middle;\n",
       "    }\n",
       "\n",
       "    .dataframe tbody tr th {\n",
       "        vertical-align: top;\n",
       "    }\n",
       "\n",
       "    .dataframe thead th {\n",
       "        text-align: right;\n",
       "    }\n",
       "</style>\n",
       "<table border=\"1\" class=\"dataframe\">\n",
       "  <thead>\n",
       "    <tr style=\"text-align: right;\">\n",
       "      <th></th>\n",
       "      <th>Unnamed: 0</th>\n",
       "      <th>V_TYPE_18</th>\n",
       "      <th>V_TYPE_10</th>\n",
       "      <th>C_HOUR_04</th>\n",
       "      <th>C_WDAY_6</th>\n",
       "      <th>C_WDAY_6.1</th>\n",
       "      <th>C_WDAY_1</th>\n",
       "      <th>C_WDAY_1.1</th>\n",
       "      <th>C_MNTH_12</th>\n",
       "      <th>C_HOUR_11</th>\n",
       "      <th>...</th>\n",
       "      <th>V_TYPE_22</th>\n",
       "      <th>C_MNTH_5</th>\n",
       "      <th>C_WTHR_4</th>\n",
       "      <th>C_WDAY_7</th>\n",
       "      <th>C_WDAY_7.1</th>\n",
       "      <th>C_HOUR_21</th>\n",
       "      <th>C_RSUR_4</th>\n",
       "      <th>C_RCFG_02</th>\n",
       "      <th>C_TRAF_04</th>\n",
       "      <th>C_HOUR_14</th>\n",
       "    </tr>\n",
       "  </thead>\n",
       "  <tbody>\n",
       "    <tr>\n",
       "      <td>0</td>\n",
       "      <td>165385</td>\n",
       "      <td>0</td>\n",
       "      <td>0</td>\n",
       "      <td>0</td>\n",
       "      <td>0</td>\n",
       "      <td>0</td>\n",
       "      <td>0</td>\n",
       "      <td>0</td>\n",
       "      <td>0</td>\n",
       "      <td>0</td>\n",
       "      <td>...</td>\n",
       "      <td>0</td>\n",
       "      <td>0</td>\n",
       "      <td>0</td>\n",
       "      <td>0</td>\n",
       "      <td>0</td>\n",
       "      <td>0</td>\n",
       "      <td>0</td>\n",
       "      <td>1</td>\n",
       "      <td>1</td>\n",
       "      <td>0</td>\n",
       "    </tr>\n",
       "    <tr>\n",
       "      <td>1</td>\n",
       "      <td>86308</td>\n",
       "      <td>0</td>\n",
       "      <td>0</td>\n",
       "      <td>0</td>\n",
       "      <td>0</td>\n",
       "      <td>0</td>\n",
       "      <td>0</td>\n",
       "      <td>0</td>\n",
       "      <td>0</td>\n",
       "      <td>0</td>\n",
       "      <td>...</td>\n",
       "      <td>0</td>\n",
       "      <td>1</td>\n",
       "      <td>0</td>\n",
       "      <td>0</td>\n",
       "      <td>0</td>\n",
       "      <td>0</td>\n",
       "      <td>0</td>\n",
       "      <td>0</td>\n",
       "      <td>0</td>\n",
       "      <td>0</td>\n",
       "    </tr>\n",
       "    <tr>\n",
       "      <td>2</td>\n",
       "      <td>239620</td>\n",
       "      <td>0</td>\n",
       "      <td>0</td>\n",
       "      <td>0</td>\n",
       "      <td>0</td>\n",
       "      <td>0</td>\n",
       "      <td>1</td>\n",
       "      <td>0</td>\n",
       "      <td>0</td>\n",
       "      <td>0</td>\n",
       "      <td>...</td>\n",
       "      <td>0</td>\n",
       "      <td>0</td>\n",
       "      <td>0</td>\n",
       "      <td>0</td>\n",
       "      <td>0</td>\n",
       "      <td>0</td>\n",
       "      <td>0</td>\n",
       "      <td>0</td>\n",
       "      <td>0</td>\n",
       "      <td>0</td>\n",
       "    </tr>\n",
       "    <tr>\n",
       "      <td>3</td>\n",
       "      <td>233305</td>\n",
       "      <td>0</td>\n",
       "      <td>0</td>\n",
       "      <td>0</td>\n",
       "      <td>1</td>\n",
       "      <td>0</td>\n",
       "      <td>0</td>\n",
       "      <td>0</td>\n",
       "      <td>0</td>\n",
       "      <td>0</td>\n",
       "      <td>...</td>\n",
       "      <td>0</td>\n",
       "      <td>0</td>\n",
       "      <td>0</td>\n",
       "      <td>0</td>\n",
       "      <td>0</td>\n",
       "      <td>0</td>\n",
       "      <td>0</td>\n",
       "      <td>1</td>\n",
       "      <td>0</td>\n",
       "      <td>0</td>\n",
       "    </tr>\n",
       "    <tr>\n",
       "      <td>4</td>\n",
       "      <td>268986</td>\n",
       "      <td>0</td>\n",
       "      <td>0</td>\n",
       "      <td>0</td>\n",
       "      <td>0</td>\n",
       "      <td>0</td>\n",
       "      <td>0</td>\n",
       "      <td>0</td>\n",
       "      <td>1</td>\n",
       "      <td>1</td>\n",
       "      <td>...</td>\n",
       "      <td>0</td>\n",
       "      <td>0</td>\n",
       "      <td>0</td>\n",
       "      <td>0</td>\n",
       "      <td>0</td>\n",
       "      <td>0</td>\n",
       "      <td>0</td>\n",
       "      <td>0</td>\n",
       "      <td>0</td>\n",
       "      <td>0</td>\n",
       "    </tr>\n",
       "    <tr>\n",
       "      <td>...</td>\n",
       "      <td>...</td>\n",
       "      <td>...</td>\n",
       "      <td>...</td>\n",
       "      <td>...</td>\n",
       "      <td>...</td>\n",
       "      <td>...</td>\n",
       "      <td>...</td>\n",
       "      <td>...</td>\n",
       "      <td>...</td>\n",
       "      <td>...</td>\n",
       "      <td>...</td>\n",
       "      <td>...</td>\n",
       "      <td>...</td>\n",
       "      <td>...</td>\n",
       "      <td>...</td>\n",
       "      <td>...</td>\n",
       "      <td>...</td>\n",
       "      <td>...</td>\n",
       "      <td>...</td>\n",
       "      <td>...</td>\n",
       "      <td>...</td>\n",
       "    </tr>\n",
       "    <tr>\n",
       "      <td>182268</td>\n",
       "      <td>103603</td>\n",
       "      <td>0</td>\n",
       "      <td>0</td>\n",
       "      <td>0</td>\n",
       "      <td>1</td>\n",
       "      <td>0</td>\n",
       "      <td>0</td>\n",
       "      <td>0</td>\n",
       "      <td>0</td>\n",
       "      <td>0</td>\n",
       "      <td>...</td>\n",
       "      <td>0</td>\n",
       "      <td>1</td>\n",
       "      <td>0</td>\n",
       "      <td>0</td>\n",
       "      <td>0</td>\n",
       "      <td>0</td>\n",
       "      <td>0</td>\n",
       "      <td>1</td>\n",
       "      <td>0</td>\n",
       "      <td>0</td>\n",
       "    </tr>\n",
       "    <tr>\n",
       "      <td>182269</td>\n",
       "      <td>241757</td>\n",
       "      <td>0</td>\n",
       "      <td>0</td>\n",
       "      <td>0</td>\n",
       "      <td>0</td>\n",
       "      <td>0</td>\n",
       "      <td>0</td>\n",
       "      <td>0</td>\n",
       "      <td>0</td>\n",
       "      <td>0</td>\n",
       "      <td>...</td>\n",
       "      <td>0</td>\n",
       "      <td>0</td>\n",
       "      <td>0</td>\n",
       "      <td>0</td>\n",
       "      <td>0</td>\n",
       "      <td>0</td>\n",
       "      <td>0</td>\n",
       "      <td>0</td>\n",
       "      <td>0</td>\n",
       "      <td>0</td>\n",
       "    </tr>\n",
       "    <tr>\n",
       "      <td>182270</td>\n",
       "      <td>127224</td>\n",
       "      <td>0</td>\n",
       "      <td>0</td>\n",
       "      <td>0</td>\n",
       "      <td>1</td>\n",
       "      <td>0</td>\n",
       "      <td>0</td>\n",
       "      <td>0</td>\n",
       "      <td>0</td>\n",
       "      <td>0</td>\n",
       "      <td>...</td>\n",
       "      <td>0</td>\n",
       "      <td>0</td>\n",
       "      <td>0</td>\n",
       "      <td>0</td>\n",
       "      <td>0</td>\n",
       "      <td>1</td>\n",
       "      <td>0</td>\n",
       "      <td>0</td>\n",
       "      <td>0</td>\n",
       "      <td>0</td>\n",
       "    </tr>\n",
       "    <tr>\n",
       "      <td>182271</td>\n",
       "      <td>171991</td>\n",
       "      <td>0</td>\n",
       "      <td>0</td>\n",
       "      <td>0</td>\n",
       "      <td>0</td>\n",
       "      <td>0</td>\n",
       "      <td>0</td>\n",
       "      <td>0</td>\n",
       "      <td>0</td>\n",
       "      <td>0</td>\n",
       "      <td>...</td>\n",
       "      <td>0</td>\n",
       "      <td>0</td>\n",
       "      <td>0</td>\n",
       "      <td>0</td>\n",
       "      <td>0</td>\n",
       "      <td>0</td>\n",
       "      <td>0</td>\n",
       "      <td>1</td>\n",
       "      <td>0</td>\n",
       "      <td>0</td>\n",
       "    </tr>\n",
       "    <tr>\n",
       "      <td>182272</td>\n",
       "      <td>138098</td>\n",
       "      <td>0</td>\n",
       "      <td>0</td>\n",
       "      <td>0</td>\n",
       "      <td>0</td>\n",
       "      <td>0</td>\n",
       "      <td>0</td>\n",
       "      <td>0</td>\n",
       "      <td>0</td>\n",
       "      <td>0</td>\n",
       "      <td>...</td>\n",
       "      <td>0</td>\n",
       "      <td>0</td>\n",
       "      <td>0</td>\n",
       "      <td>0</td>\n",
       "      <td>0</td>\n",
       "      <td>0</td>\n",
       "      <td>0</td>\n",
       "      <td>0</td>\n",
       "      <td>0</td>\n",
       "      <td>0</td>\n",
       "    </tr>\n",
       "  </tbody>\n",
       "</table>\n",
       "<p>182273 rows × 119 columns</p>\n",
       "</div>"
      ],
      "text/plain": [
       "        Unnamed: 0  V_TYPE_18  V_TYPE_10  C_HOUR_04  C_WDAY_6  C_WDAY_6.1  \\\n",
       "0           165385          0          0          0         0           0   \n",
       "1            86308          0          0          0         0           0   \n",
       "2           239620          0          0          0         0           0   \n",
       "3           233305          0          0          0         1           0   \n",
       "4           268986          0          0          0         0           0   \n",
       "...            ...        ...        ...        ...       ...         ...   \n",
       "182268      103603          0          0          0         1           0   \n",
       "182269      241757          0          0          0         0           0   \n",
       "182270      127224          0          0          0         1           0   \n",
       "182271      171991          0          0          0         0           0   \n",
       "182272      138098          0          0          0         0           0   \n",
       "\n",
       "        C_WDAY_1  C_WDAY_1.1  C_MNTH_12  C_HOUR_11  ...  V_TYPE_22  C_MNTH_5  \\\n",
       "0              0           0          0          0  ...          0         0   \n",
       "1              0           0          0          0  ...          0         1   \n",
       "2              1           0          0          0  ...          0         0   \n",
       "3              0           0          0          0  ...          0         0   \n",
       "4              0           0          1          1  ...          0         0   \n",
       "...          ...         ...        ...        ...  ...        ...       ...   \n",
       "182268         0           0          0          0  ...          0         1   \n",
       "182269         0           0          0          0  ...          0         0   \n",
       "182270         0           0          0          0  ...          0         0   \n",
       "182271         0           0          0          0  ...          0         0   \n",
       "182272         0           0          0          0  ...          0         0   \n",
       "\n",
       "        C_WTHR_4  C_WDAY_7  C_WDAY_7.1  C_HOUR_21  C_RSUR_4  C_RCFG_02  \\\n",
       "0              0         0           0          0         0          1   \n",
       "1              0         0           0          0         0          0   \n",
       "2              0         0           0          0         0          0   \n",
       "3              0         0           0          0         0          1   \n",
       "4              0         0           0          0         0          0   \n",
       "...          ...       ...         ...        ...       ...        ...   \n",
       "182268         0         0           0          0         0          1   \n",
       "182269         0         0           0          0         0          0   \n",
       "182270         0         0           0          1         0          0   \n",
       "182271         0         0           0          0         0          1   \n",
       "182272         0         0           0          0         0          0   \n",
       "\n",
       "        C_TRAF_04  C_HOUR_14  \n",
       "0               1          0  \n",
       "1               0          0  \n",
       "2               0          0  \n",
       "3               0          0  \n",
       "4               0          0  \n",
       "...           ...        ...  \n",
       "182268          0          0  \n",
       "182269          0          0  \n",
       "182270          0          0  \n",
       "182271          0          0  \n",
       "182272          0          0  \n",
       "\n",
       "[182273 rows x 119 columns]"
      ]
     },
     "execution_count": 19,
=======
      "text/plain": [
       "array([[  167,   353],\n",
       "       [   79, 35856]], dtype=int64)"
      ]
     },
     "execution_count": 36,
>>>>>>> 7887975753b9f886bd9b2607ec68689955382ae4
     "metadata": {},
     "output_type": "execute_result"
    }
   ],
   "source": [
<<<<<<< HEAD
    "df"
=======
    "confusion_matrix_rfe_valid"
   ]
  },
  {
   "cell_type": "markdown",
   "metadata": {},
   "source": [
    "**Classification report for logistic regression**"
   ]
  },
  {
   "cell_type": "code",
   "execution_count": 37,
   "metadata": {},
   "outputs": [
    {
     "name": "stdout",
     "output_type": "stream",
     "text": [
      "              precision    recall  f1-score   support\n",
      "\n",
      "           1       0.00      0.00      0.00       520\n",
      "           2       0.99      1.00      0.99     35935\n",
      "\n",
      "    accuracy                           0.99     36455\n",
      "   macro avg       0.49      0.50      0.50     36455\n",
      "weighted avg       0.97      0.99      0.98     36455\n",
      "\n"
     ]
    }
   ],
   "source": [
    "print(report_lgr)"
   ]
  },
  {
   "cell_type": "markdown",
   "metadata": {},
   "source": [
    "**Classification report for logistic random forest**"
   ]
  },
  {
   "cell_type": "code",
   "execution_count": 38,
   "metadata": {},
   "outputs": [
    {
     "name": "stdout",
     "output_type": "stream",
     "text": [
      "              precision    recall  f1-score   support\n",
      "\n",
      "           1       0.68      0.32      0.44       520\n",
      "           2       0.99      1.00      0.99     35935\n",
      "\n",
      "    accuracy                           0.99     36455\n",
      "   macro avg       0.83      0.66      0.72     36455\n",
      "weighted avg       0.99      0.99      0.99     36455\n",
      "\n"
     ]
    }
   ],
   "source": [
    "print(report_rf)"
>>>>>>> 7887975753b9f886bd9b2607ec68689955382ae4
   ]
  },
  {
   "cell_type": "code",
   "execution_count": null,
   "metadata": {},
   "outputs": [],
   "source": []
  },
  {
   "cell_type": "code",
   "execution_count": null,
   "metadata": {},
   "outputs": [],
   "source": []
  }
 ],
 "metadata": {
  "kernelspec": {
   "display_name": "Python 3",
   "language": "python",
   "name": "python3"
  },
  "language_info": {
   "codemirror_mode": {
    "name": "ipython",
    "version": 3
   },
   "file_extension": ".py",
   "mimetype": "text/x-python",
   "name": "python",
   "nbconvert_exporter": "python",
   "pygments_lexer": "ipython3",
   "version": "3.7.4"
  }
 },
 "nbformat": 4,
 "nbformat_minor": 4
}
