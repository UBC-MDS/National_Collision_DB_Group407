{
 "cells": [
  {
   "cell_type": "code",
   "execution_count": 73,
   "metadata": {},
   "outputs": [
    {
     "data": {
      "text/plain": [
       "2    179714\n",
       "1      2559\n",
       "Name: C_SEV, dtype: int64"
      ]
     },
     "execution_count": 73,
     "metadata": {},
     "output_type": "execute_result"
    }
   ],
   "source": [
    "import pandas as pd\n",
    "import matplotlib.pyplot as plt\n",
    "import numpy as np\n",
    "from sklearn.model_selection import train_test_split\n",
    "from sklearn.preprocessing import OneHotEncoder\n",
    "from sklearn.metrics import roc_auc_score\n",
    "from sklearn.linear_model import LogisticRegression\n",
    "from sklearn.metrics import accuracy_score\n",
    "from sklearn.utils import resample\n",
    "from sklearn.pipeline import Pipeline, FeatureUnion, make_pipeline\n",
    "from sklearn.compose import ColumnTransformer\n",
    "\n",
    "from sklearn.preprocessing import OneHotEncoder\n",
    "from sklearn.compose import ColumnTransformer\n",
    "from sklearn.model_selection import GridSearchCV\n",
    "import time\n",
    "from sklearn.svm import SVC\n",
    "from sklearn.ensemble import RandomForestClassifier\n",
    "from sklearn.pipeline import Pipeline, FeatureUnion, make_pipeline\n",
    "\n",
    "from sklearn.metrics import classification_report\n",
    "from sklearn.metrics import confusion_matrix\n",
    "\n",
    "cleaned = pd.read_csv('../data/cleaned_train_data.csv')\n",
    "cleaned_test = pd.read_csv('../data/cleaned_test_data.csv')\n",
    "cleaned['C_SEV'].value_counts()"
   ]
  },
  {
   "cell_type": "code",
   "execution_count": 74,
   "metadata": {},
   "outputs": [
    {
     "data": {
      "text/plain": [
       "2    179714\n",
       "1      2559\n",
       "Name: C_SEV, dtype: int64"
      ]
     },
     "execution_count": 74,
     "metadata": {},
     "output_type": "execute_result"
    }
   ],
   "source": [
    "cleaned['C_SEV'].value_counts()"
   ]
  },
  {
   "cell_type": "code",
   "execution_count": 75,
   "metadata": {},
   "outputs": [
    {
     "data": {
      "text/plain": [
       "2    2559\n",
       "1    2559\n",
       "Name: C_SEV, dtype: int64"
      ]
     },
     "execution_count": 75,
     "metadata": {},
     "output_type": "execute_result"
    }
   ],
   "source": [
    "# Separate majority and minority classes\n",
    "majority = cleaned[cleaned.C_SEV==2]\n",
    "minority = cleaned[cleaned.C_SEV==1]\n",
    "\n",
    "# downsample majority class\n",
    "maj_downsampled = resample(majority, \n",
    "                                 replace=True,     # sample with replacement\n",
    "                                 n_samples=2559, # to match majority class\n",
    "                                 random_state=407) # reproducible results\n",
    " \n",
    "# Combine majority class with upsampled minority class\n",
    "resampled = pd.concat([minority, maj_downsampled])\n",
    " \n",
    "# Display new class counts\n",
    "resampled['C_SEV'].value_counts()"
   ]
  },
  {
   "cell_type": "code",
   "execution_count": 76,
   "metadata": {},
   "outputs": [],
   "source": [
    "X_train = resampled.drop(['C_SEV'], axis = 1)\n",
    "y_train = resampled['C_SEV']\n",
    "X_test = cleaned_test.drop(['C_SEV'], axis = 1)\n",
    "y_test = cleaned_test['C_SEV']"
   ]
  },
  {
   "cell_type": "code",
   "execution_count": 77,
   "metadata": {},
   "outputs": [],
   "source": [
    "categorical_features = ['C_MNTH', 'C_WDAY', 'C_HOUR', 'C_RCFG', 'C_WTHR', 'C_RSUR', 'C_RALN',\n",
    "       'C_TRAF', 'V_TYPE']\n",
    "categorical_transformer = Pipeline(steps=[\n",
    "                                          ('onehot', OneHotEncoder(handle_unknown='ignore'))\n",
    "                                         ])\n",
    "\n",
    "preprocessor = ColumnTransformer(\n",
    "                                 transformers=[\n",
    "                                    ('cat', categorical_transformer, categorical_features)\n",
    "                                ])"
   ]
  },
  {
   "cell_type": "code",
   "execution_count": 78,
   "metadata": {},
   "outputs": [],
   "source": [
    "### parameter tuning "
   ]
  },
  {
   "cell_type": "code",
   "execution_count": 79,
   "metadata": {},
   "outputs": [],
   "source": [
    "# rf_params = [{\n",
    "#     'classifier' : [RandomForestClassifier()],\n",
    "#     'classifier__n_estimators' : list(range(10,101,10)),\n",
    "#     'classifier__max_features' : list(range(6,32,5))}]\n",
    "\n",
    "# rf_model = { 'Random Forest': RandomForestClassifier()}"
   ]
  },
  {
   "cell_type": "code",
   "execution_count": 80,
   "metadata": {},
   "outputs": [],
   "source": [
    "# log_params = [{'classifier' : [LogisticRegression()],\n",
    "#     'classifier__penalty' : ['l1', 'l2'],\n",
    "#     'classifier__C' : np.logspace(-4, 4, 20),\n",
    "#     'classifier__solver' : ['liblinear']}]\n",
    "\n",
    "# log_model = { 'Logistic Regression': LogisticRegression()}"
   ]
  },
  {
   "cell_type": "code",
   "execution_count": 81,
   "metadata": {},
   "outputs": [],
   "source": [
    "# pipe = Pipeline(steps=[('preprocessor', preprocessor),\n",
    "#                       ('classifier', LogisticRegression())])\n",
    "# search = GridSearchCV(pipe, log_params,\n",
    "#                       n_jobs=-1,\n",
    "#                       scoring = \"accuracy\",\n",
    "#                       cv = 5,\n",
    "#                       refit = True)\n",
    "# search.fit(X_train, y_train)\n",
    "# tr_err = 1 - search.score(X_train, y_train)\n",
    "# valid_err = 1 - search.score(X_test, y_test)\n",
    "# results_dict['Logistic Regression'] = [round(tr_err,3), round(valid_err,3), search.best_params_]"
   ]
  },
  {
   "cell_type": "code",
   "execution_count": 82,
   "metadata": {},
   "outputs": [],
   "source": [
    "# pipe = Pipeline(steps=[('preprocessor', preprocessor),\n",
    "#                       ('classifier', RandomForestClassifier())])\n",
    "# search = GridSearchCV(pipe, rf_params,\n",
    "#                       n_jobs=-1,\n",
    "#                       scoring = \"accuracy\",\n",
    "#                       cv = 5,\n",
    "#                       refit = True)\n",
    "# search.fit(X_train, y_train)\n",
    "# tr_err = 1 - search.score(X_train, y_train)\n",
    "# valid_err = 1 - search.score(X_test, y_test)\n",
    "# results_dict['Random Forest'] = [round(tr_err,3), round(valid_err,3), search.best_params_]"
   ]
  },
  {
   "cell_type": "code",
   "execution_count": 83,
   "metadata": {},
   "outputs": [],
   "source": [
    "# pipe = Pipeline(steps=[('preprocessor', preprocessor),\n",
    "#                       ('classifier', LogisticRegression())])\n",
    "\n",
    "# search = GridSearchCV(pipe, log_params,\n",
    "#                       n_jobs=-1,\n",
    "#                       scoring = \"accuracy\",\n",
    "#                       cv = 5,\n",
    "#                       refit = True)\n",
    "# search.fit(X_train, y_train)\n",
    "# tr_err = 1 - search.score(X_train, y_train)\n",
    "# valid_err = 1 - search.score(X_test, y_test)\n",
    "# results_dict['Logistic Regression'] = [round(tr_err,3), round(valid_err,3), search.best_params_]"
   ]
  },
  {
   "cell_type": "code",
   "execution_count": 84,
   "metadata": {},
   "outputs": [],
   "source": [
    "results_dict = dict()"
   ]
  },
  {
   "cell_type": "code",
   "execution_count": 85,
   "metadata": {},
   "outputs": [],
   "source": [
    "# results = pd.DataFrame(results_dict).T\n",
    "# results.columns = (\"Train Score\", \"Validation Score\", \"Best Parameters\")\n",
    "# results"
   ]
  },
  {
   "cell_type": "code",
   "execution_count": 86,
   "metadata": {},
   "outputs": [
    {
     "name": "stderr",
     "output_type": "stream",
     "text": [
      "C:\\Users\\vigne\\AppData\\Local\\Continuum\\anaconda3\\lib\\site-packages\\sklearn\\ensemble\\forest.py:245: FutureWarning: The default value of n_estimators will change from 10 in version 0.20 to 100 in 0.22.\n",
      "  \"10 in version 0.20 to 100 in 0.22.\", FutureWarning)\n"
     ]
    }
   ],
   "source": [
    "pipe = Pipeline(steps=[('preprocessor', preprocessor),\n",
    "                       ('classifier', RandomForestClassifier(bootstrap=True, class_weight=None,\n",
    "                          criterion='gini', max_depth=None, max_features=6,\n",
    "                          max_leaf_nodes=None, \n",
    "                          min_impurity_decrease=0.0, min_impurity_split=None,\n",
    "                          min_samples_leaf=1, min_samples_split=2,\n",
    "                          min_weight_fraction_leaf=0.0,\n",
    "                          n_jobs=None, oob_score=False, random_state=None,\n",
    "                          verbose=0, warm_start=False))])\n",
    "rf = pipe.fit(X_train, y_train)\n",
    "tr_err = 1 - rf.score(X_train, y_train)\n",
    "valid_err = 1 - rf.score(X_test, y_test)\n",
    "results_dict['Random Forest'] = [round(tr_err,3), round(valid_err,3)]\n"
   ]
  },
  {
   "cell_type": "code",
   "execution_count": 87,
   "metadata": {},
   "outputs": [],
   "source": [
    "confusion_matrix_rf_train = confusion_matrix(y_train, pipe.predict(X_train))\n",
    "confusion_matrix_rf_test = confusion_matrix(y_test, pipe.predict(X_test))\n",
    "report_rf = classification_report(y_train, pipe.predict(X_train), output_dict = True)"
   ]
  },
  {
   "cell_type": "code",
   "execution_count": 88,
   "metadata": {},
   "outputs": [],
   "source": [
    "pipe = Pipeline(steps=[('preprocessor', preprocessor),\n",
    "                       ('classifier', LogisticRegression(C=4.281332398719396, class_weight=None, dual=False,\n",
    "                      fit_intercept=True, intercept_scaling=1, l1_ratio=None,\n",
    "                      max_iter=100, multi_class='auto', n_jobs=None, penalty='l2',\n",
    "                      random_state=None, solver='liblinear', tol=0.0001, verbose=0,\n",
    "                      warm_start=False))])"
   ]
  },
  {
   "cell_type": "code",
   "execution_count": 89,
   "metadata": {},
   "outputs": [],
   "source": [
    "log = pipe.fit(X_train, y_train)\n",
    "tr_err = 1 - log.score(X_train, y_train)\n",
    "valid_err = 1 - log.score(X_test, y_test)\n",
    "results_dict['Log'] = [round(tr_err,3), round(valid_err,3)]"
   ]
  },
  {
   "cell_type": "code",
   "execution_count": 90,
   "metadata": {},
   "outputs": [
    {
     "data": {
      "text/plain": [
       "{'Random Forest': [0.026, 0.303], 'Log': [0.295, 0.31]}"
      ]
     },
     "execution_count": 90,
     "metadata": {},
     "output_type": "execute_result"
    }
   ],
   "source": [
    "results_dict "
   ]
  },
  {
   "cell_type": "code",
   "execution_count": 91,
   "metadata": {},
   "outputs": [],
   "source": [
    "confusion_matrix_lgr_train = confusion_matrix(y_train, pipe.predict(X_train))\n",
    "confusion_matrix_lgr_test = confusion_matrix(y_test, pipe.predict(X_test))\n",
    "report_lr = classification_report(y_train, pipe.predict(X_train), output_dict = True)"
   ]
  },
  {
   "cell_type": "code",
   "execution_count": 92,
   "metadata": {},
   "outputs": [
    {
     "data": {
      "text/plain": [
       "array([[1781,  778],\n",
       "       [ 732, 1827]], dtype=int64)"
      ]
     },
     "execution_count": 92,
     "metadata": {},
     "output_type": "execute_result"
    }
   ],
   "source": [
    "confusion_matrix_lgr_train"
   ]
  },
  {
   "cell_type": "code",
   "execution_count": 93,
   "metadata": {},
   "outputs": [
    {
     "data": {
      "text/plain": [
       "array([[2519,   40],\n",
       "       [  93, 2466]], dtype=int64)"
      ]
     },
     "execution_count": 93,
     "metadata": {},
     "output_type": "execute_result"
    }
   ],
   "source": [
    "confusion_matrix_rf_train"
   ]
  },
  {
   "cell_type": "code",
   "execution_count": 94,
   "metadata": {},
   "outputs": [
    {
     "data": {
      "text/plain": [
       "array([[  446,   225],\n",
       "       [13900, 30963]], dtype=int64)"
      ]
     },
     "execution_count": 94,
     "metadata": {},
     "output_type": "execute_result"
    }
   ],
   "source": [
    "confusion_matrix_lgr_test"
   ]
  },
  {
   "cell_type": "code",
   "execution_count": 95,
   "metadata": {},
   "outputs": [
    {
     "data": {
      "text/plain": [
       "array([[  591,    80],\n",
       "       [13704, 31159]], dtype=int64)"
      ]
     },
     "execution_count": 95,
     "metadata": {},
     "output_type": "execute_result"
    }
   ],
   "source": [
    "confusion_matrix_rf_test"
   ]
  },
  {
   "cell_type": "code",
   "execution_count": 96,
   "metadata": {},
   "outputs": [
    {
     "data": {
      "text/plain": [
       "{'1': {'precision': 0.7087146836450458,\n",
       "  'recall': 0.6959749902305589,\n",
       "  'f1-score': 0.7022870662460569,\n",
       "  'support': 2559},\n",
       " '2': {'precision': 0.7013435700575815,\n",
       "  'recall': 0.7139507620164126,\n",
       "  'f1-score': 0.7075910147172734,\n",
       "  'support': 2559},\n",
       " 'accuracy': 0.7049628761234857,\n",
       " 'macro avg': {'precision': 0.7050291268513136,\n",
       "  'recall': 0.7049628761234857,\n",
       "  'f1-score': 0.7049390404816651,\n",
       "  'support': 5118},\n",
       " 'weighted avg': {'precision': 0.7050291268513136,\n",
       "  'recall': 0.7049628761234857,\n",
       "  'f1-score': 0.7049390404816651,\n",
       "  'support': 5118}}"
      ]
     },
     "execution_count": 96,
     "metadata": {},
     "output_type": "execute_result"
    }
   ],
   "source": [
    "report_lr"
   ]
  },
  {
   "cell_type": "code",
   "execution_count": 97,
   "metadata": {},
   "outputs": [
    {
     "name": "stdout",
     "output_type": "stream",
     "text": [
      "{'1': {'precision': 0.9643950995405819, 'recall': 0.9843688940992575, 'f1-score': 0.9742796364339587, 'support': 2559}, '2': {'precision': 0.9840383080606544, 'recall': 0.9636576787807737, 'f1-score': 0.973741362290227, 'support': 2559}, 'accuracy': 0.9740132864400156, 'macro avg': {'precision': 0.9742167038006182, 'recall': 0.9740132864400156, 'f1-score': 0.9740104993620928, 'support': 5118}, 'weighted avg': {'precision': 0.9742167038006181, 'recall': 0.9740132864400156, 'f1-score': 0.9740104993620928, 'support': 5118}}\n"
     ]
    }
   ],
   "source": [
    "print(report_rf)"
   ]
  },
  {
   "cell_type": "code",
   "execution_count": 98,
   "metadata": {},
   "outputs": [],
   "source": [
    "df_rf_classification = pd.DataFrame(report_rf)\n",
    "df_rf_classification.to_csv('../results/rf_classification.csv')\n",
    "\n",
    "df_rf_classification = pd.DataFrame(report_lr)\n",
    "df_rf_classification.to_csv(\"../results/lgr_classification.csv\")"
   ]
  },
  {
   "cell_type": "code",
   "execution_count": 99,
   "metadata": {},
   "outputs": [],
   "source": [
    "confusion_matrix_lgr_train_df = pd.DataFrame(confusion_matrix_lgr_train, \n",
    "                                             index = ['Not fatal', 'Fatal'],\n",
    "                                             columns=['Not fatal', 'Fatal'])\n",
    "confusion_matrix_lgr_train_df.to_csv('../results/lgr_train_confusion.csv')"
   ]
  },
  {
   "cell_type": "code",
   "execution_count": 100,
   "metadata": {},
   "outputs": [],
   "source": [
    "confusion_matrix_lgr_test_df = pd.DataFrame(confusion_matrix_lgr_test, \n",
    "                                             index = ['Not fatal', 'Fatal'],\n",
    "                                             columns=['Not fatal', 'Fatal'])\n",
    "confusion_matrix_lgr_test_df.to_csv('../results/lgr_test_confusion.csv')"
   ]
  },
  {
   "cell_type": "code",
   "execution_count": 101,
   "metadata": {},
   "outputs": [],
   "source": [
    "confusion_matrix_rf_train_df = pd.DataFrame(confusion_matrix_rf_train, \n",
    "                                             index = ['Not fatal', 'Fatal'],\n",
    "                                             columns=['Not fatal', 'Fatal'])\n",
    "confusion_matrix_rf_train_df.to_csv('../results/rf_train_confusion.csv')"
   ]
  },
  {
   "cell_type": "code",
   "execution_count": 102,
   "metadata": {},
   "outputs": [],
   "source": [
    "confusion_matrix_rf_test_df = pd.DataFrame(confusion_matrix_rf_test, \n",
    "                                             index = ['Not fatal', 'Fatal'],\n",
    "                                             columns=['Not fatal', 'Fatal'])\n",
    "confusion_matrix_rf_test_df.to_csv('../results/rf_test_confusion.csv')"
   ]
  },
  {
   "cell_type": "code",
   "execution_count": 105,
   "metadata": {},
   "outputs": [
    {
     "ename": "ValueError",
     "evalue": "Data is not binary and pos_label is not specified",
     "output_type": "error",
     "traceback": [
      "\u001b[1;31m---------------------------------------------------------------------------\u001b[0m",
      "\u001b[1;31mValueError\u001b[0m                                Traceback (most recent call last)",
      "\u001b[1;32m<ipython-input-105-940f4188b5e8>\u001b[0m in \u001b[0;36m<module>\u001b[1;34m\u001b[0m\n\u001b[0;32m      1\u001b[0m \u001b[1;32mfrom\u001b[0m \u001b[0msklearn\u001b[0m\u001b[1;33m.\u001b[0m\u001b[0mmetrics\u001b[0m \u001b[1;32mimport\u001b[0m \u001b[0mroc_curve\u001b[0m\u001b[1;33m\u001b[0m\u001b[1;33m\u001b[0m\u001b[0m\n\u001b[0;32m      2\u001b[0m \u001b[1;33m\u001b[0m\u001b[0m\n\u001b[1;32m----> 3\u001b[1;33m \u001b[0mfpr\u001b[0m\u001b[1;33m,\u001b[0m \u001b[0mtpr\u001b[0m\u001b[1;33m,\u001b[0m \u001b[0mthresholds\u001b[0m \u001b[1;33m=\u001b[0m \u001b[0mroc_curve\u001b[0m\u001b[1;33m(\u001b[0m\u001b[0my_test\u001b[0m\u001b[1;33m,\u001b[0m \u001b[0mpipe\u001b[0m\u001b[1;33m.\u001b[0m\u001b[0mpredict_proba\u001b[0m\u001b[1;33m(\u001b[0m\u001b[0mX_test\u001b[0m\u001b[1;33m)\u001b[0m\u001b[1;33m[\u001b[0m\u001b[1;33m:\u001b[0m\u001b[1;33m,\u001b[0m\u001b[1;36m1\u001b[0m\u001b[1;33m]\u001b[0m\u001b[1;33m)\u001b[0m\u001b[1;33m\u001b[0m\u001b[1;33m\u001b[0m\u001b[0m\n\u001b[0m\u001b[0;32m      4\u001b[0m \u001b[1;33m\u001b[0m\u001b[0m\n\u001b[0;32m      5\u001b[0m \u001b[0mplt\u001b[0m\u001b[1;33m.\u001b[0m\u001b[0mplot\u001b[0m\u001b[1;33m(\u001b[0m\u001b[0mfpr\u001b[0m\u001b[1;33m,\u001b[0m \u001b[0mtpr\u001b[0m\u001b[1;33m)\u001b[0m\u001b[1;33m;\u001b[0m\u001b[1;33m\u001b[0m\u001b[1;33m\u001b[0m\u001b[0m\n",
      "\u001b[1;32m~\\AppData\\Local\\Continuum\\anaconda3\\lib\\site-packages\\sklearn\\metrics\\ranking.py\u001b[0m in \u001b[0;36mroc_curve\u001b[1;34m(y_true, y_score, pos_label, sample_weight, drop_intermediate)\u001b[0m\n\u001b[0;32m    620\u001b[0m     \"\"\"\n\u001b[0;32m    621\u001b[0m     fps, tps, thresholds = _binary_clf_curve(\n\u001b[1;32m--> 622\u001b[1;33m         y_true, y_score, pos_label=pos_label, sample_weight=sample_weight)\n\u001b[0m\u001b[0;32m    623\u001b[0m \u001b[1;33m\u001b[0m\u001b[0m\n\u001b[0;32m    624\u001b[0m     \u001b[1;31m# Attempt to drop thresholds corresponding to points in between and\u001b[0m\u001b[1;33m\u001b[0m\u001b[1;33m\u001b[0m\u001b[1;33m\u001b[0m\u001b[0m\n",
      "\u001b[1;32m~\\AppData\\Local\\Continuum\\anaconda3\\lib\\site-packages\\sklearn\\metrics\\ranking.py\u001b[0m in \u001b[0;36m_binary_clf_curve\u001b[1;34m(y_true, y_score, pos_label, sample_weight)\u001b[0m\n\u001b[0;32m    413\u001b[0m              \u001b[0mnp\u001b[0m\u001b[1;33m.\u001b[0m\u001b[0marray_equal\u001b[0m\u001b[1;33m(\u001b[0m\u001b[0mclasses\u001b[0m\u001b[1;33m,\u001b[0m \u001b[1;33m[\u001b[0m\u001b[1;33m-\u001b[0m\u001b[1;36m1\u001b[0m\u001b[1;33m]\u001b[0m\u001b[1;33m)\u001b[0m \u001b[1;32mor\u001b[0m\u001b[1;33m\u001b[0m\u001b[1;33m\u001b[0m\u001b[0m\n\u001b[0;32m    414\u001b[0m              np.array_equal(classes, [1]))):\n\u001b[1;32m--> 415\u001b[1;33m         \u001b[1;32mraise\u001b[0m \u001b[0mValueError\u001b[0m\u001b[1;33m(\u001b[0m\u001b[1;34m\"Data is not binary and pos_label is not specified\"\u001b[0m\u001b[1;33m)\u001b[0m\u001b[1;33m\u001b[0m\u001b[1;33m\u001b[0m\u001b[0m\n\u001b[0m\u001b[0;32m    416\u001b[0m     \u001b[1;32melif\u001b[0m \u001b[0mpos_label\u001b[0m \u001b[1;32mis\u001b[0m \u001b[1;32mNone\u001b[0m\u001b[1;33m:\u001b[0m\u001b[1;33m\u001b[0m\u001b[1;33m\u001b[0m\u001b[0m\n\u001b[0;32m    417\u001b[0m         \u001b[0mpos_label\u001b[0m \u001b[1;33m=\u001b[0m \u001b[1;36m1.\u001b[0m\u001b[1;33m\u001b[0m\u001b[1;33m\u001b[0m\u001b[0m\n",
      "\u001b[1;31mValueError\u001b[0m: Data is not binary and pos_label is not specified"
     ]
    }
   ],
   "source": [
    "# from sklearn.metrics import roc_curve\n",
    "\n",
    "# fpr, tpr, thresholds = roc_curve(y_test, pipe.predict_proba(X_test)[:,1])\n",
    "\n",
    "# plt.plot(fpr, tpr);\n",
    "# plt.plot((0,1),(0,1),'--k');\n",
    "# plt.xlabel('false positive rate');\n",
    "# plt.ylabel('true positive rate');\n",
    "# #plt.savefig('../results/auc_rf.png')"
   ]
  },
  {
   "cell_type": "code",
   "execution_count": null,
   "metadata": {},
   "outputs": [],
   "source": []
  }
 ],
 "metadata": {
  "kernelspec": {
   "display_name": "Python 3",
   "language": "python",
   "name": "python3"
  },
  "language_info": {
   "codemirror_mode": {
    "name": "ipython",
    "version": 3
   },
   "file_extension": ".py",
   "mimetype": "text/x-python",
   "name": "python",
   "nbconvert_exporter": "python",
   "pygments_lexer": "ipython3",
   "version": "3.7.3"
  }
 },
 "nbformat": 4,
 "nbformat_minor": 4
}
