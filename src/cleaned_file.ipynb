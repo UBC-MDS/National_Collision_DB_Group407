{
 "cells": [
  {
   "cell_type": "code",
   "execution_count": 10,
   "metadata": {},
   "outputs": [],
   "source": [
    "import pandas as pd\n",
    "import matplotlib.pyplot as plt\n",
    "import numpy as np\n",
    "from sklearn.model_selection import train_test_split\n",
    "from sklearn.preprocessing import OneHotEncoder\n",
    "\n",
    "# read the data from csv file \n",
    "df = pd.read_csv(\"../data/raw_data.csv\")\n",
    "\n",
    "# drop irrelavant columns, split data into train and test sets\n",
    "X = df.drop([\"C_YEAR\", \"C_VEHS\", \"C_CONF\", \"V_ID\", \"V_YEAR\",\n",
    "             \"P_ID\", \"P_PSN\", \"P_ISEV\", \"P_USER\", \"C_CASE\", \"C_SEV\", \"P_SEX\", \"P_AGE\", \"P_SAFE\"], axis=1)\n",
    "y = df[\"C_SEV\"]\n",
    "X_train, X_test, y_train, y_test = train_test_split(X, y, test_size=0.20, random_state=407)\n",
    "\n",
    "# clean the train data, dropping rows with unknown/string values and convert data frame to numeric type\n",
    "combined_train = pd.concat([X_train, y_train], axis=1)\n",
    "cleaned = combined_train.apply(pd.to_numeric, errors='coerce').dropna(axis=0).astype(int)\n",
    "\n",
    "# clean the test data, dropping rows with unknown/string values and convert data frame to numeric type\n",
    "combined_test = pd.concat([X_test, y_test], axis=1)\n",
    "cleaned_test = combined_test.apply(pd.to_numeric, errors='coerce').dropna(axis=0).astype(int)\n",
    "\n",
    "# get dummy variables for the cleaned data\n",
    "final_cleaned = pd.get_dummies(cleaned.astype(str))\n",
    "final_cleaned_test = pd.get_dummies(cleaned_test.astype(str))\n",
    "\n",
    "# save final data frame as csv file\n",
    "final_cleaned.to_csv(\"../data/cleaned_train_data.csv\")\n",
    "final_cleaned_test.to_csv(\"../data/cleaned_test_data.csv\")"
   ]
  },
  {
   "cell_type": "code",
   "execution_count": null,
   "metadata": {},
   "outputs": [],
   "source": []
  }
 ],
 "metadata": {
  "kernelspec": {
   "display_name": "Python 3",
   "language": "python",
   "name": "python3"
  },
  "language_info": {
   "codemirror_mode": {
    "name": "ipython",
    "version": 3
   },
   "file_extension": ".py",
   "mimetype": "text/x-python",
   "name": "python",
   "nbconvert_exporter": "python",
   "pygments_lexer": "ipython3",
   "version": "3.7.3"
  }
 },
 "nbformat": 4,
 "nbformat_minor": 4
}
