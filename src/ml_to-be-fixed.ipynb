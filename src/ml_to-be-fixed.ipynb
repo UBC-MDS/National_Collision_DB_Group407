{
 "cells": [
  {
   "cell_type": "code",
   "execution_count": 28,
   "metadata": {},
   "outputs": [
    {
     "data": {
      "text/plain": [
       "2    179714\n",
       "1      2559\n",
       "Name: C_SEV, dtype: int64"
      ]
     },
     "execution_count": 28,
     "metadata": {},
     "output_type": "execute_result"
    }
   ],
   "source": [
    "import pandas as pd\n",
    "import matplotlib.pyplot as plt\n",
    "import numpy as np\n",
    "from sklearn.model_selection import train_test_split\n",
    "from sklearn.preprocessing import OneHotEncoder\n",
    "from sklearn.metrics import roc_auc_score\n",
    "from sklearn.linear_model import LogisticRegression\n",
    "from sklearn.metrics import accuracy_score\n",
    "from sklearn.utils import resample\n",
    "from sklearn.pipeline import Pipeline, FeatureUnion, make_pipeline\n",
    "from sklearn.compose import ColumnTransformer\n",
    "\n",
    "from sklearn.preprocessing import OneHotEncoder\n",
    "from sklearn.compose import ColumnTransformer\n",
    "from sklearn.model_selection import GridSearchCV\n",
    "import time\n",
    "from sklearn.svm import SVC\n",
    "from sklearn.ensemble import RandomForestClassifier\n",
    "from sklearn.pipeline import Pipeline, FeatureUnion, make_pipeline\n",
    "\n",
    "\n",
    "cleaned = pd.read_csv('../data/cleaned_train_data.csv')\n",
    "cleaned_test = pd.read_csv('../data/cleaned_test_data.csv')\n",
    "cleaned['C_SEV'].value_counts()"
   ]
  },
  {
   "cell_type": "code",
   "execution_count": 29,
   "metadata": {},
   "outputs": [
    {
     "data": {
      "text/plain": [
       "2    179714\n",
       "1      2559\n",
       "Name: C_SEV, dtype: int64"
      ]
     },
     "execution_count": 29,
     "metadata": {},
     "output_type": "execute_result"
    }
   ],
   "source": [
    "cleaned['C_SEV'].value_counts()"
   ]
  },
  {
   "cell_type": "code",
   "execution_count": 30,
   "metadata": {},
   "outputs": [
    {
     "data": {
      "text/plain": [
       "2    2559\n",
       "1    2559\n",
       "Name: C_SEV, dtype: int64"
      ]
     },
     "execution_count": 30,
     "metadata": {},
     "output_type": "execute_result"
    }
   ],
   "source": [
    "# Separate majority and minority classes\n",
    "majority = cleaned[cleaned.C_SEV==2]\n",
    "minority = cleaned[cleaned.C_SEV==1]\n",
    "\n",
    "# downsample majority class\n",
    "maj_downsampled = resample(majority, \n",
    "                                 replace=True,     # sample with replacement\n",
    "                                 n_samples=2559, # to match majority class\n",
    "                                 random_state=407) # reproducible results\n",
    " \n",
    "# Combine majority class with upsampled minority class\n",
    "resampled = pd.concat([minority, maj_downsampled])\n",
    " \n",
    "# Display new class counts\n",
    "resampled['C_SEV'].value_counts()"
   ]
  },
  {
   "cell_type": "code",
   "execution_count": 31,
   "metadata": {},
   "outputs": [],
   "source": [
    "X_train = resampled.drop(['C_SEV'], axis = 1)\n",
    "y_train = resampled['C_SEV']\n",
    "X_test = cleaned_test.drop(['C_SEV'], axis = 1)\n",
    "y_test = cleaned_test['C_SEV']"
   ]
  },
  {
   "cell_type": "code",
   "execution_count": 32,
   "metadata": {},
   "outputs": [],
   "source": [
    "categorical_features = ['C_MNTH', 'C_WDAY', 'C_HOUR', 'C_RCFG', 'C_WTHR', 'C_RSUR', 'C_RALN',\n",
    "       'C_TRAF', 'V_TYPE']\n",
    "categorical_transformer = Pipeline(steps=[\n",
    "                                          ('onehot', OneHotEncoder(handle_unknown='ignore'))\n",
    "                                         ])\n",
    "\n",
    "preprocessor = ColumnTransformer(\n",
    "                                 transformers=[\n",
    "                                    ('cat', categorical_transformer, categorical_features)\n",
    "                                ])"
   ]
  },
  {
   "cell_type": "code",
   "execution_count": 33,
   "metadata": {},
   "outputs": [],
   "source": [
    "### parameter tuning "
   ]
  },
  {
   "cell_type": "code",
   "execution_count": 54,
   "metadata": {},
   "outputs": [],
   "source": [
    "# rf_params = [{\n",
    "#     'classifier' : [RandomForestClassifier()],\n",
    "#     'classifier__n_estimators' : list(range(10,101,10)),\n",
    "#     'classifier__max_features' : list(range(6,32,5))}]\n",
    "\n",
    "# rf_model = { 'Random Forest': RandomForestClassifier()}"
   ]
  },
  {
   "cell_type": "code",
   "execution_count": 55,
   "metadata": {},
   "outputs": [],
   "source": [
    "# log_params = [{'classifier' : [LogisticRegression()],\n",
    "#     'classifier__penalty' : ['l1', 'l2'],\n",
    "#     'classifier__C' : np.logspace(-4, 4, 20),\n",
    "#     'classifier__solver' : ['liblinear']}]\n",
    "\n",
    "# log_model = { 'Logistic Regression': LogisticRegression()}"
   ]
  },
  {
   "cell_type": "code",
   "execution_count": 56,
   "metadata": {},
   "outputs": [],
   "source": [
    "# pipe = Pipeline(steps=[('preprocessor', preprocessor),\n",
    "#                       ('classifier', LogisticRegression())])\n",
    "# search = GridSearchCV(pipe, log_params,\n",
    "#                       n_jobs=-1,\n",
    "#                       scoring = \"accuracy\",\n",
    "#                       cv = 5,\n",
    "#                       refit = True)\n",
    "# search.fit(X_train, y_train)\n",
    "# tr_err = 1 - search.score(X_train, y_train)\n",
    "# valid_err = 1 - search.score(X_test, y_test)\n",
    "# results_dict['Logistic Regression'] = [round(tr_err,3), round(valid_err,3), search.best_params_]"
   ]
  },
  {
   "cell_type": "code",
   "execution_count": 57,
   "metadata": {},
   "outputs": [],
   "source": [
    "# pipe = Pipeline(steps=[('preprocessor', preprocessor),\n",
    "#                       ('classifier', RandomForestClassifier())])\n",
    "# search = GridSearchCV(pipe, rf_params,\n",
    "#                       n_jobs=-1,\n",
    "#                       scoring = \"accuracy\",\n",
    "#                       cv = 5,\n",
    "#                       refit = True)\n",
    "# search.fit(X_train, y_train)\n",
    "# tr_err = 1 - search.score(X_train, y_train)\n",
    "# valid_err = 1 - search.score(X_test, y_test)\n",
    "# results_dict['Random Forest'] = [round(tr_err,3), round(valid_err,3), search.best_params_]"
   ]
  },
  {
   "cell_type": "code",
   "execution_count": 58,
   "metadata": {},
   "outputs": [],
   "source": [
    "# pipe = Pipeline(steps=[('preprocessor', preprocessor),\n",
    "#                       ('classifier', LogisticRegression())])\n",
    "\n",
    "# search = GridSearchCV(pipe, log_params,\n",
    "#                       n_jobs=-1,\n",
    "#                       scoring = \"accuracy\",\n",
    "#                       cv = 5,\n",
    "#                       refit = True)\n",
    "# search.fit(X_train, y_train)\n",
    "# tr_err = 1 - search.score(X_train, y_train)\n",
    "# valid_err = 1 - search.score(X_test, y_test)\n",
    "# results_dict['Logistic Regression'] = [round(tr_err,3), round(valid_err,3), search.best_params_]"
   ]
  },
  {
   "cell_type": "code",
   "execution_count": 59,
   "metadata": {},
   "outputs": [],
   "source": [
    "# results_dict"
   ]
  },
  {
   "cell_type": "code",
   "execution_count": 60,
   "metadata": {},
   "outputs": [],
   "source": [
    "# results = pd.DataFrame(results_dict).T\n",
    "# results.columns = (\"Train Score\", \"Validation Score\", \"Best Parameters\")\n",
    "# results"
   ]
  },
  {
   "cell_type": "code",
   "execution_count": 89,
   "metadata": {},
   "outputs": [],
   "source": [
    "pipe = Pipeline(steps=[('preprocessor', preprocessor),\n",
    "                       ('classifier', RandomForestClassifier(bootstrap=True, ccp_alpha=0.0, class_weight=None,\n",
    "                          criterion='gini', max_depth=None, max_features=6,\n",
    "                          max_leaf_nodes=None, max_samples=None,\n",
    "                          min_impurity_decrease=0.0, min_impurity_split=None,\n",
    "                          min_samples_leaf=1, min_samples_split=2,\n",
    "                          min_weight_fraction_leaf=0.0,\n",
    "                          n_jobs=None, oob_score=False, random_state=None,\n",
    "                          verbose=0, warm_start=False))])\n",
    "rf = pipe.fit(X_train, y_train)\n",
    "tr_err = 1 - rf.score(X_train, y_train)\n",
    "valid_err = 1 - rf.score(X_test, y_test)\n",
    "results_dict['Random Forest'] = [round(tr_err,3), round(valid_err,3)]\n"
   ]
  },
  {
   "cell_type": "code",
   "execution_count": 90,
   "metadata": {},
   "outputs": [],
   "source": [
    "pipe = Pipeline(steps=[('preprocessor', preprocessor),\n",
    "                       ('classifier', LogisticRegression(C=4.281332398719396, class_weight=None, dual=False,\n",
    "                      fit_intercept=True, intercept_scaling=1, l1_ratio=None,\n",
    "                      max_iter=100, multi_class='auto', n_jobs=None, penalty='l2',\n",
    "                      random_state=None, solver='liblinear', tol=0.0001, verbose=0,\n",
    "                      warm_start=False))])"
   ]
  },
  {
   "cell_type": "code",
   "execution_count": 91,
   "metadata": {},
   "outputs": [],
   "source": [
    "log = pipe.fit(X_train, y_train)\n",
    "tr_err = 1 - log.score(X_train, y_train)\n",
    "valid_err = 1 - log.score(X_test, y_test)\n",
    "results_dict['Log'] = [round(tr_err,3), round(valid_err,3)]"
   ]
  },
  {
   "cell_type": "code",
   "execution_count": 92,
   "metadata": {},
   "outputs": [
    {
     "data": {
      "text/plain": [
       "{'Random Forest': [0.019, 0.243], 'Log': [0.295, 0.31]}"
      ]
     },
     "execution_count": 92,
     "metadata": {},
     "output_type": "execute_result"
    }
   ],
   "source": [
    "results_dict "
   ]
  },
  {
   "cell_type": "code",
   "execution_count": null,
   "metadata": {},
   "outputs": [],
   "source": []
  },
  {
   "cell_type": "code",
   "execution_count": null,
   "metadata": {},
   "outputs": [],
   "source": []
  },
  {
   "cell_type": "code",
   "execution_count": null,
   "metadata": {},
   "outputs": [],
   "source": []
  },
  {
   "cell_type": "code",
   "execution_count": null,
   "metadata": {},
   "outputs": [],
   "source": []
  },
  {
   "cell_type": "code",
   "execution_count": null,
   "metadata": {},
   "outputs": [],
   "source": []
  }
 ],
 "metadata": {
  "kernelspec": {
   "display_name": "Python 3",
   "language": "python",
   "name": "python3"
  },
  "language_info": {
   "codemirror_mode": {
    "name": "ipython",
    "version": 3
   },
   "file_extension": ".py",
   "mimetype": "text/x-python",
   "name": "python",
   "nbconvert_exporter": "python",
   "pygments_lexer": "ipython3",
   "version": "3.7.3"
  }
 },
 "nbformat": 4,
 "nbformat_minor": 4
}
