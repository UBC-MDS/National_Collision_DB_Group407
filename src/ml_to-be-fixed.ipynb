{
 "cells": [
  {
   "cell_type": "code",
   "execution_count": 73,
   "metadata": {},
   "outputs": [
    {
     "data": {
      "text/plain": [
       "2    179714\n",
       "1      2559\n",
       "Name: C_SEV, dtype: int64"
      ]
     },
     "execution_count": 73,
     "metadata": {},
     "output_type": "execute_result"
    }
   ],
   "source": [
    "import pandas as pd\n",
    "import matplotlib.pyplot as plt\n",
    "import numpy as np\n",
    "from sklearn.model_selection import train_test_split\n",
    "from sklearn.preprocessing import OneHotEncoder\n",
    "from sklearn.metrics import roc_auc_score\n",
    "from sklearn.linear_model import LogisticRegression\n",
    "from sklearn.metrics import accuracy_score\n",
    "from sklearn.utils import resample\n",
    "from sklearn.pipeline import Pipeline, FeatureUnion, make_pipeline\n",
    "from sklearn.compose import ColumnTransformer\n",
    "\n",
    "from sklearn.preprocessing import OneHotEncoder\n",
    "from sklearn.compose import ColumnTransformer\n",
    "from sklearn.model_selection import GridSearchCV\n",
    "import time\n",
    "from sklearn.svm import SVC\n",
    "from sklearn.ensemble import RandomForestClassifier\n",
    "from sklearn.pipeline import Pipeline, FeatureUnion, make_pipeline\n",
    "\n",
    "from sklearn.metrics import classification_report\n",
    "from sklearn.metrics import confusion_matrix\n",
    "from sklearn.metrics import roc_curve\n",
    "\n",
    "cleaned = pd.read_csv('../data/cleaned_train_data.csv')\n",
    "cleaned_test = pd.read_csv('../data/cleaned_test_data.csv')\n",
    "cleaned['C_SEV'].value_counts()"
   ]
  },
  {
   "cell_type": "code",
   "execution_count": 74,
   "metadata": {},
   "outputs": [
    {
     "data": {
      "text/plain": [
       "2    179714\n",
       "1      2559\n",
       "Name: C_SEV, dtype: int64"
      ]
     },
     "execution_count": 74,
     "metadata": {},
     "output_type": "execute_result"
    }
   ],
   "source": [
    "cleaned['C_SEV'].value_counts()"
   ]
  },
  {
   "cell_type": "code",
   "execution_count": 75,
   "metadata": {},
   "outputs": [
    {
     "data": {
      "text/plain": [
       "2    2559\n",
       "1    2559\n",
       "Name: C_SEV, dtype: int64"
      ]
     },
     "execution_count": 75,
     "metadata": {},
     "output_type": "execute_result"
    }
   ],
   "source": [
    "# Separate majority and minority classes\n",
    "majority = cleaned[cleaned.C_SEV==2]\n",
    "minority = cleaned[cleaned.C_SEV==1]\n",
    "\n",
    "# downsample majority class\n",
    "maj_downsampled = resample(majority, \n",
    "                                 replace=True,     # sample with replacement\n",
    "                                 n_samples=2559, # to match majority class\n",
    "                                 random_state=407) # reproducible results\n",
    " \n",
    "# Combine majority class with upsampled minority class\n",
    "resampled = pd.concat([minority, maj_downsampled])\n",
    " \n",
    "# Display new class counts\n",
    "resampled['C_SEV'].value_counts()"
   ]
  },
  {
   "cell_type": "code",
   "execution_count": 76,
   "metadata": {},
   "outputs": [],
   "source": [
    "X_train = resampled.drop(['C_SEV'], axis = 1)\n",
    "y_train = resampled['C_SEV']\n",
    "X_test = cleaned_test.drop(['C_SEV'], axis = 1)\n",
    "y_test = cleaned_test['C_SEV']"
   ]
  },
  {
   "cell_type": "code",
   "execution_count": 77,
   "metadata": {},
   "outputs": [],
   "source": [
    "categorical_features = ['C_MNTH', 'C_WDAY', 'C_HOUR', 'C_RCFG', 'C_WTHR', 'C_RSUR', 'C_RALN',\n",
    "       'C_TRAF', 'V_TYPE']\n",
    "categorical_transformer = Pipeline(steps=[\n",
    "                                          ('onehot', OneHotEncoder(handle_unknown='ignore'))\n",
    "                                         ])\n",
    "\n",
    "preprocessor = ColumnTransformer(\n",
    "                                 transformers=[\n",
    "                                    ('cat', categorical_transformer, categorical_features)\n",
    "                                ])"
   ]
  },
  {
   "cell_type": "code",
   "execution_count": 78,
   "metadata": {},
   "outputs": [],
   "source": [
    "### parameter tuning "
   ]
  },
  {
   "cell_type": "code",
   "execution_count": 79,
   "metadata": {},
   "outputs": [],
   "source": [
    "# rf_params = [{\n",
    "#     'classifier' : [RandomForestClassifier()],\n",
    "#     'classifier__n_estimators' : list(range(10,101,10)),\n",
    "#     'classifier__max_features' : list(range(6,32,5))}]\n",
    "\n",
    "# rf_model = { 'Random Forest': RandomForestClassifier()}"
   ]
  },
  {
   "cell_type": "code",
   "execution_count": 80,
   "metadata": {},
   "outputs": [],
   "source": [
    "# log_params = [{'classifier' : [LogisticRegression()],\n",
    "#     'classifier__penalty' : ['l1', 'l2'],\n",
    "#     'classifier__C' : np.logspace(-4, 4, 20),\n",
    "#     'classifier__solver' : ['liblinear']}]\n",
    "\n",
    "# log_model = { 'Logistic Regression': LogisticRegression()}"
   ]
  },
  {
   "cell_type": "code",
   "execution_count": 81,
   "metadata": {},
   "outputs": [],
   "source": [
    "# pipe = Pipeline(steps=[('preprocessor', preprocessor),\n",
    "#                       ('classifier', LogisticRegression())])\n",
    "# search = GridSearchCV(pipe, log_params,\n",
    "#                       n_jobs=-1,\n",
    "#                       scoring = \"accuracy\",\n",
    "#                       cv = 5,\n",
    "#                       refit = True)\n",
    "# search.fit(X_train, y_train)\n",
    "# tr_err = 1 - search.score(X_train, y_train)\n",
    "# valid_err = 1 - search.score(X_test, y_test)\n",
    "# results_dict['Logistic Regression'] = [round(tr_err,3), round(valid_err,3), search.best_params_]"
   ]
  },
  {
   "cell_type": "code",
   "execution_count": 82,
   "metadata": {},
   "outputs": [],
   "source": [
    "# pipe = Pipeline(steps=[('preprocessor', preprocessor),\n",
    "#                       ('classifier', RandomForestClassifier())])\n",
    "# search = GridSearchCV(pipe, rf_params,\n",
    "#                       n_jobs=-1,\n",
    "#                       scoring = \"accuracy\",\n",
    "#                       cv = 5,\n",
    "#                       refit = True)\n",
    "# search.fit(X_train, y_train)\n",
    "# tr_err = 1 - search.score(X_train, y_train)\n",
    "# valid_err = 1 - search.score(X_test, y_test)\n",
    "# results_dict['Random Forest'] = [round(tr_err,3), round(valid_err,3), search.best_params_]"
   ]
  },
  {
   "cell_type": "code",
   "execution_count": 113,
   "metadata": {},
   "outputs": [],
   "source": [
    "# pipe = Pipeline(steps=[('preprocessor', preprocessor),\n",
    "#                       ('classifier', LogisticRegression())])\n",
    "\n",
    "# search = GridSearchCV(pipe, log_params,\n",
    "#                       n_jobs=-1,\n",
    "#                       scoring = \"accuracy\",\n",
    "#                       cv = 5,\n",
    "#                       refit = True)\n",
    "# search.fit(X_train, y_train)\n",
    "# tr_err = 1 - search.score(X_train, y_train)\n",
    "# valid_err = 1 - search.score(X_test, y_test)\n",
    "# results_dict['Logistic Regression'] = [round(tr_err,3), round(valid_err,3), search.best_params_]"
   ]
  },
  {
   "cell_type": "code",
   "execution_count": 114,
   "metadata": {},
   "outputs": [],
   "source": [
    "results_dict = dict()"
   ]
  },
  {
   "cell_type": "code",
   "execution_count": 115,
   "metadata": {},
   "outputs": [],
   "source": [
    "# results = pd.DataFrame(results_dict).T\n",
    "# results.columns = (\"Train Score\", \"Validation Score\", \"Best Parameters\")\n",
    "# results"
   ]
  },
  {
   "cell_type": "code",
   "execution_count": 116,
   "metadata": {},
   "outputs": [
    {
     "name": "stderr",
     "output_type": "stream",
     "text": [
      "C:\\Users\\vigne\\AppData\\Local\\Continuum\\anaconda3\\lib\\site-packages\\sklearn\\ensemble\\forest.py:245: FutureWarning: The default value of n_estimators will change from 10 in version 0.20 to 100 in 0.22.\n",
      "  \"10 in version 0.20 to 100 in 0.22.\", FutureWarning)\n"
     ]
    }
   ],
   "source": [
    "pipe = Pipeline(steps=[('preprocessor', preprocessor),\n",
    "                       ('classifier', RandomForestClassifier(bootstrap=True, class_weight=None,\n",
    "                          criterion='gini', max_depth=None, max_features=6,\n",
    "                          max_leaf_nodes=None, \n",
    "                          min_impurity_decrease=0.0, min_impurity_split=None,\n",
    "                          min_samples_leaf=1, min_samples_split=2,\n",
    "                          min_weight_fraction_leaf=0.0,\n",
    "                          n_jobs=None, oob_score=False, random_state=None,\n",
    "                          verbose=0, warm_start=False))])\n",
    "rf = pipe.fit(X_train, y_train)\n",
    "tr_err = 1 - rf.score(X_train, y_train)\n",
    "valid_err = 1 - rf.score(X_test, y_test)\n",
    "results_dict['Random Forest'] = [round(tr_err,3), round(valid_err,3)]\n"
   ]
  },
  {
   "cell_type": "code",
   "execution_count": 117,
   "metadata": {},
   "outputs": [],
   "source": [
    "confusion_matrix_rf_train = confusion_matrix(y_train, pipe.predict(X_train))\n",
    "confusion_matrix_rf_test = confusion_matrix(y_test, pipe.predict(X_test))\n",
    "report_rf = classification_report(y_train, pipe.predict(X_train), output_dict = True)"
   ]
  },
  {
   "cell_type": "code",
   "execution_count": 118,
   "metadata": {},
   "outputs": [
    {
     "data": {
      "image/png": "[encoded data removed]",
      "text/plain": [
       "<Figure size 432x288 with 1 Axes>"
      ]
     },
     "metadata": {
      "needs_background": "light"
     },
     "output_type": "display_data"
    }
   ],
   "source": [
    "from sklearn.metrics import roc_curve\n",
    "\n",
    "fpr, tpr, thresholds = roc_curve(y_test, pipe.predict_proba(X_test)[:,1], pos_label=2)\n",
    "\n",
    "plt.plot(fpr, tpr);\n",
    "plt.plot((0,1),(0,1),'--k');\n",
    "plt.xlabel('false positive rate');\n",
    "plt.ylabel('true positive rate');\n",
    "plt.title('AUC Random Forest');\n",
    "plt.savefig('../results/auc_rf.png')"
   ]
  },
  {
   "cell_type": "code",
   "execution_count": 119,
   "metadata": {},
   "outputs": [],
   "source": [
    "pipe = Pipeline(steps=[('preprocessor', preprocessor),\n",
    "                       ('classifier', LogisticRegression(C=4.281332398719396, class_weight=None, dual=False,\n",
    "                      fit_intercept=True, intercept_scaling=1, l1_ratio=None,\n",
    "                      max_iter=100, multi_class='auto', n_jobs=None, penalty='l2',\n",
    "                      random_state=None, solver='liblinear', tol=0.0001, verbose=0,\n",
    "                      warm_start=False))])"
   ]
  },
  {
   "cell_type": "code",
   "execution_count": 120,
   "metadata": {},
   "outputs": [],
   "source": [
    "log = pipe.fit(X_train, y_train)\n",
    "tr_err = 1 - log.score(X_train, y_train)\n",
    "valid_err = 1 - log.score(X_test, y_test)\n",
    "results_dict['Log'] = [round(tr_err,3), round(valid_err,3)]"
   ]
  },
  {
   "cell_type": "code",
   "execution_count": 121,
   "metadata": {},
   "outputs": [
    {
     "data": {
      "text/plain": [
       "{'Random Forest': [0.03, 0.298], 'Log': [0.295, 0.31]}"
      ]
     },
     "execution_count": 121,
     "metadata": {},
     "output_type": "execute_result"
    }
   ],
   "source": [
    "results_dict "
   ]
  },
  {
   "cell_type": "code",
   "execution_count": 122,
   "metadata": {},
   "outputs": [],
   "source": [
    "confusion_matrix_lgr_train = confusion_matrix(y_train, pipe.predict(X_train))\n",
    "confusion_matrix_lgr_test = confusion_matrix(y_test, pipe.predict(X_test))\n",
    "report_lr = classification_report(y_train, pipe.predict(X_train), output_dict = True)"
   ]
  },
  {
   "cell_type": "code",
   "execution_count": 123,
   "metadata": {},
   "outputs": [
    {
     "data": {
      "image/png": "[encoded data removed]",
      "text/plain": [
       "<Figure size 432x288 with 1 Axes>"
      ]
     },
     "metadata": {
      "needs_background": "light"
     },
     "output_type": "display_data"
    }
   ],
   "source": [
    "from sklearn.metrics import roc_curve\n",
    "\n",
    "fpr, tpr, thresholds = roc_curve(y_test, pipe.predict_proba(X_test)[:,1], pos_label=2)\n",
    "\n",
    "plt.plot(fpr, tpr);\n",
    "plt.plot((0,1),(0,1),'--k');\n",
    "plt.xlabel('false positive rate');\n",
    "plt.ylabel('true positive rate');\n",
    "plt.title('AUC Logistic regression');\n",
    "plt.savefig('../results/auc_lgr.png')"
   ]
  },
  {
   "cell_type": "code",
   "execution_count": 124,
   "metadata": {},
   "outputs": [
    {
     "data": {
      "text/plain": [
       "array([[1781,  778],\n",
       "       [ 732, 1827]], dtype=int64)"
      ]
     },
     "execution_count": 124,
     "metadata": {},
     "output_type": "execute_result"
    }
   ],
   "source": [
    "confusion_matrix_lgr_train"
   ]
  },
  {
   "cell_type": "code",
   "execution_count": 125,
   "metadata": {},
   "outputs": [
    {
     "data": {
      "text/plain": [
       "array([[2520,   39],\n",
       "       [ 115, 2444]], dtype=int64)"
      ]
     },
     "execution_count": 125,
     "metadata": {},
     "output_type": "execute_result"
    }
   ],
   "source": [
    "confusion_matrix_rf_train"
   ]
  },
  {
   "cell_type": "code",
   "execution_count": 126,
   "metadata": {},
   "outputs": [
    {
     "data": {
      "text/plain": [
       "array([[  446,   225],\n",
       "       [13900, 30963]], dtype=int64)"
      ]
     },
     "execution_count": 126,
     "metadata": {},
     "output_type": "execute_result"
    }
   ],
   "source": [
    "confusion_matrix_lgr_test"
   ]
  },
  {
   "cell_type": "code",
   "execution_count": 127,
   "metadata": {},
   "outputs": [
    {
     "data": {
      "text/plain": [
       "array([[  584,    87],\n",
       "       [13500, 31363]], dtype=int64)"
      ]
     },
     "execution_count": 127,
     "metadata": {},
     "output_type": "execute_result"
    }
   ],
   "source": [
    "confusion_matrix_rf_test"
   ]
  },
  {
   "cell_type": "code",
   "execution_count": 128,
   "metadata": {},
   "outputs": [
    {
     "data": {
      "text/plain": [
       "{'1': {'precision': 0.7087146836450458,\n",
       "  'recall': 0.6959749902305589,\n",
       "  'f1-score': 0.7022870662460569,\n",
       "  'support': 2559},\n",
       " '2': {'precision': 0.7013435700575815,\n",
       "  'recall': 0.7139507620164126,\n",
       "  'f1-score': 0.7075910147172734,\n",
       "  'support': 2559},\n",
       " 'accuracy': 0.7049628761234857,\n",
       " 'macro avg': {'precision': 0.7050291268513136,\n",
       "  'recall': 0.7049628761234857,\n",
       "  'f1-score': 0.7049390404816651,\n",
       "  'support': 5118},\n",
       " 'weighted avg': {'precision': 0.7050291268513136,\n",
       "  'recall': 0.7049628761234857,\n",
       "  'f1-score': 0.7049390404816651,\n",
       "  'support': 5118}}"
      ]
     },
     "execution_count": 128,
     "metadata": {},
     "output_type": "execute_result"
    }
   ],
   "source": [
    "report_lr"
   ]
  },
  {
   "cell_type": "code",
   "execution_count": 129,
   "metadata": {},
   "outputs": [
    {
     "name": "stdout",
     "output_type": "stream",
     "text": [
      "{'1': {'precision': 0.9563567362428842, 'recall': 0.984759671746776, 'f1-score': 0.9703504043126684, 'support': 2559}, '2': {'precision': 0.9842931937172775, 'recall': 0.9550605705353654, 'f1-score': 0.9694565648552161, 'support': 2559}, 'accuracy': 0.9699101211410708, 'macro avg': {'precision': 0.9703249649800809, 'recall': 0.9699101211410708, 'f1-score': 0.9699034845839423, 'support': 5118}, 'weighted avg': {'precision': 0.9703249649800808, 'recall': 0.9699101211410708, 'f1-score': 0.9699034845839423, 'support': 5118}}\n"
     ]
    }
   ],
   "source": [
    "print(report_rf)"
   ]
  },
  {
   "cell_type": "code",
   "execution_count": 130,
   "metadata": {},
   "outputs": [],
   "source": [
    "df_rf_classification = pd.DataFrame(report_rf)\n",
    "df_rf_classification.to_csv('../results/rf_classification.csv')\n",
    "\n",
    "df_rf_classification = pd.DataFrame(report_lr)\n",
    "df_rf_classification.to_csv(\"../results/lgr_classification.csv\")"
   ]
  },
  {
   "cell_type": "code",
   "execution_count": 131,
   "metadata": {},
   "outputs": [],
   "source": [
    "confusion_matrix_lgr_train_df = pd.DataFrame(confusion_matrix_lgr_train, \n",
    "                                             index = ['Not fatal', 'Fatal'],\n",
    "                                             columns=['Not fatal', 'Fatal'])\n",
    "confusion_matrix_lgr_train_df.to_csv('../results/lgr_train_confusion.csv')"
   ]
  },
  {
   "cell_type": "code",
   "execution_count": 132,
   "metadata": {},
   "outputs": [],
   "source": [
    "confusion_matrix_lgr_test_df = pd.DataFrame(confusion_matrix_lgr_test, \n",
    "                                             index = ['Not fatal', 'Fatal'],\n",
    "                                             columns=['Not fatal', 'Fatal'])\n",
    "confusion_matrix_lgr_test_df.to_csv('../results/lgr_test_confusion.csv')"
   ]
  },
  {
   "cell_type": "code",
   "execution_count": 133,
   "metadata": {},
   "outputs": [],
   "source": [
    "confusion_matrix_rf_train_df = pd.DataFrame(confusion_matrix_rf_train, \n",
    "                                             index = ['Not fatal', 'Fatal'],\n",
    "                                             columns=['Not fatal', 'Fatal'])\n",
    "confusion_matrix_rf_train_df.to_csv('../results/rf_train_confusion.csv')"
   ]
  },
  {
   "cell_type": "code",
   "execution_count": 134,
   "metadata": {},
   "outputs": [],
   "source": [
    "confusion_matrix_rf_test_df = pd.DataFrame(confusion_matrix_rf_test, \n",
    "                                             index = ['Not fatal', 'Fatal'],\n",
    "                                             columns=['Not fatal', 'Fatal'])\n",
    "confusion_matrix_rf_test_df.to_csv('../results/rf_test_confusion.csv')"
   ]
  },
  {
   "cell_type": "code",
   "execution_count": 135,
   "metadata": {},
   "outputs": [
    {
     "data": {
      "image/png": "[encoded data removed]",
      "text/plain": [
       "<Figure size 432x288 with 1 Axes>"
      ]
     },
     "metadata": {
      "needs_background": "light"
     },
     "output_type": "display_data"
    }
   ],
   "source": [
    "fpr, tpr, thresholds = roc_curve(y_test, pipe.predict_proba(X_test)[:,1], pos_label=2)\n",
    "\n",
    "plt.plot(fpr, tpr);\n",
    "plt.plot((0,1),(0,1),'--k');\n",
    "plt.xlabel('false positive rate');\n",
    "plt.ylabel('true positive rate');\n",
    "plt.title('AUC Random Forest');\n",
    "#plt.savefig('../results/auc_rf.png')"
   ]
  },
  {
   "cell_type": "code",
   "execution_count": null,
   "metadata": {},
   "outputs": [],
   "source": []
  },
  {
   "cell_type": "code",
   "execution_count": null,
   "metadata": {},
   "outputs": [],
   "source": []
  }
 ],
 "metadata": {
  "kernelspec": {
   "display_name": "Python 3",
   "language": "python",
   "name": "python3"
  },
  "language_info": {
   "codemirror_mode": {
    "name": "ipython",
    "version": 3
   },
   "file_extension": ".py",
   "mimetype": "text/x-python",
   "name": "python",
   "nbconvert_exporter": "python",
   "pygments_lexer": "ipython3",
   "version": "3.7.3"
  }
 },
 "nbformat": 4,
 "nbformat_minor": 4
}
